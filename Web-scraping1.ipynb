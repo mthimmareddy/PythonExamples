{
 "cells": [
  {
   "cell_type": "code",
   "execution_count": 4,
   "metadata": {
    "collapsed": true
   },
   "outputs": [],
   "source": [
    "from bs4 import BeautifulSoup as sp\n",
    "from urllib.request import urlopen\n",
    "\n"
   ]
  },
  {
   "cell_type": "code",
   "execution_count": 30,
   "metadata": {
    "collapsed": false
   },
   "outputs": [],
   "source": [
    "page_content=urlopen(\"https://www.flipkart.com/mobiles?otracker=nmenu_sub_Electronics_0_Mobiles\").read()"
   ]
  },
  {
   "cell_type": "code",
   "execution_count": 31,
   "metadata": {
    "collapsed": false
   },
   "outputs": [],
   "source": [
    "page_soup=sp(page_content,\"html.parser\")"
   ]
  },
  {
   "cell_type": "code",
   "execution_count": 7,
   "metadata": {
    "collapsed": false
   },
   "outputs": [
    {
     "name": "stdout",
     "output_type": "stream",
     "text": [
      "<!DOCTYPE html>\n",
      "\n",
      "<html lang=\"en\">\n",
      "<head>\n",
      "<link href=\"https://rukminim1.flixcart.com\" rel=\"dns-prefetch\"/>\n",
      "<link href=\"https://img1a.flixcart.com\" rel=\"dns-prefetch\"/>\n",
      "<link href=\"//img1a.flixcart.com/www/linchpin/fk-cp-zion/css/bundle.f2917f.css\" rel=\"stylesheet\"/>\n",
      "<link as=\"image\" href=\"//img1a.flixcart.com/www/linchpin/fk-cp-zion/img/fk-logo_9fddff.png\" rel=\"preload\">\n",
      "<meta content=\"text/html; charset=utf-8\" http-equiv=\"Content-type\"/>\n",
      "<meta content=\"IE=Edge\" http-equiv=\"X-UA-Compatible\"/>\n",
      "<meta content=\"102988293558\" property=\"fb:page_id\"/>\n",
      "<meta content=\"658873552,624500995,100000233612389\" property=\"fb:admins\"/>\n",
      "<meta content=\"noodp\" name=\"robots\"/>\n",
      "<link href=\"https://img1a.flixcart.com/www/promos/new/20150528-140547-favicon-retina.ico\" rel=\"shortcut icon\"/>\n",
      "<link href=\"/osdd.xml?v=2\" rel=\"search\" type=\"application/opensearchdescription+xml\"/>\n",
      "<meta content=\"Flipkart.com\" name=\"og_site_name\" property=\"og:site_name\"/>\n",
      "<!-- Appple Touch Icons -->\n",
      "<link href=\"/apple-touch-icon-57x57.png\" rel=\"apple-touch-icon\" sizes=\"57x57\"/>\n",
      "<link href=\"/apple-touch-icon-72x72.png\" rel=\"apple-touch-icon\" sizes=\"72x72\"/>\n",
      "<link href=\"/apple-touch-icon-114x114.png\" rel=\"apple-touch-icon\" sizes=\"114x114\"/>\n",
      "<link href=\"/apple-touch-icon-144x144.png\" rel=\"apple-touch-icon\" sizes=\"144x144\"/>\n",
      "<link href=\"/apple-touch-icon-57x57.png\" rel=\"apple-touch-icon\"/>\n",
      "<!-- Twitter Meta Data -->\n",
      "<meta content=\"app\" name=\"twitter:card\">\n",
      "<meta content=\"Shop for electronics, apparels &amp; more using our Flipkart app Free shipping &amp; COD.\" name=\"twitter:description\">\n",
      "<meta content=\"in\" name=\"twitter:app:country\">\n",
      "<meta content=\"Flipkart\" name=\"al:ios:app_name\">\n",
      "<meta content=\"742044692\" name=\"al:ios:app_store_id\">\n",
      "<meta content=\"Flipkart\" name=\"twitter:app:name:iphone\">\n",
      "<meta content=\"742044692\" name=\"twitter:app:id:iphone\">\n",
      "<meta content=\"http://dl.flipkart.com/dl/home?\" name=\"twitter:app:url:iphone\">\n",
      "<meta content=\"Flipkart\" name=\"twitter:app:name:ipad\">\n",
      "<meta content=\"742044692\" name=\"twitter:app:id:ipad\">\n",
      "<meta content=\"http://dl.flipkart.com/dl/home?\" name=\"twitter:app:url:ipad\">\n",
      "<meta content=\"Flipkart\" name=\"twitter:app:name:googleplay\">\n",
      "<meta content=\"com.flipkart.android\" name=\"twitter:app:id:googleplay\">\n",
      "<meta content=\"http://dl.flipkart.com/dl/home?\" name=\"twitter:app:url:googleplay\">\n",
      "<style>\n",
      "\t\t#container {\n",
      "\t\t\theight: 100%;\n",
      "\t\t}\n",
      "\t</style>\n",
      "<script crossorigin=\"anonymous\" defer=\"\" src=\"//img1a.flixcart.com/www/linchpin/fk-cp-zion/js/vendor.823d00.js\"></script>\n",
      "<script crossorigin=\"anonymous\" defer=\"\" src=\"//img1a.flixcart.com/www/linchpin/fk-cp-zion/js/manifest.2aa7a1.js\"></script>\n",
      "<script crossorigin=\"anonymous\" defer=\"\" src=\"//img1a.flixcart.com/www/linchpin/fk-cp-zion/js/app.9693c6.js\"></script>\n",
      "<script crossorigin=\"anonymous\" defer=\"\" src=\"//img1a.flixcart.com/www/linchpin/fk-cp-zion/js/Home.135465.js\"></script>\n",
      "<title>Mobiles | Buy Mobiles Online at Best Prices in India | Shop Online for Smartphones at Flipkart.com</title>\n",
      "<meta content=\"Mobiles | Buy Mobiles Online at Best Prices in India | Shop Online for Smartphones at Flipkart.com\" name=\"og_title\" property=\"og:title\"/>\n",
      "<meta content=\"Mobiles, Mobile Phones, Buy Mobile Phones Online, Mobiles India, Smartphones\" name=\"Keywords\"/>\n",
      "<meta content=\"Buy Mobiles Online at Best Price in India - Get all new mobiles and smartphones online from best brands like Samsung, Apple, Mi, Motorola &amp; more. Compare mobiles and make your choice from latest mobile phones.\" name=\"Description\"/>\n",
      "<link href=\"https://www.flipkart.com/mobiles\" rel=\"canonical\"/>\n",
      "<meta content=\"https://www.flipkart.com/mobiles\" name=\"og_url\" property=\"og:url\"/>\n",
      "<meta content=\"69D68C6BA09AE39EB88946D69662CC31\" name=\"msvalidate.01\"/>\n",
      "<script nonce=\"8349655762160441853\">\n",
      "\t(function(){\n",
      "\t\tif(window.BOOMR && window.BOOMR.version){return;}\n",
      "\t\tvar dom,doc,where,iframe = document.createElement(\"iframe\"),win = window;\n",
      "\n",
      "\t\tfunction boomerangSaveLoadTime(e) {\n",
      "\t\t\twin.BOOMR_onload=(e && e.timeStamp) || new Date().getTime();\n",
      "\t\t}\n",
      "\t\twin.addEventListener(\"load\", boomerangSaveLoadTime, false);\n",
      "\n",
      "\t\tiframe.src = \"about:blank\";\n",
      "\t\tiframe.title = \"\"; iframe.role=\"presentation\";\n",
      "\t\tiframe.setAttribute(\"nonce\", \"8349655762160441853\");\n",
      "\t\t(iframe.frameElement || iframe).style.cssText = \"width:0;height:0;border:0;display:none;\";\n",
      "\t\twhere = document.getElementsByTagName(\"script\")[0];\n",
      "\t\twhere.parentNode.insertBefore(iframe, where);\n",
      "\n",
      "\t\ttry {\n",
      "\t\t\tdoc = iframe.contentWindow.document;\n",
      "\t\t} catch(e) {\n",
      "\t\t\tdom = document.domain;\n",
      "\t\t\tiframe.src=\"javascript:var d=document.open();d.domain='\"+dom+\"';void(0);\";\n",
      "\t\t\tdoc = iframe.contentWindow.document;\n",
      "\t\t}\n",
      "\t\tdoc.open()._l = function() {\n",
      "\t\t\tvar js = this.createElement(\"script\");\n",
      "\t\t\tif(dom) this.domain = dom;\n",
      "\t\t\tjs.id = \"boomr-if-as\";\n",
      "\t\t\tjs.src = \"//c.go-mpulse.net/boomerang/\" + \"9MTPR-XH8GM-HUHSJ-V5UBN-96H6L\";\n",
      "\t\t\tBOOMR_lstart=new Date().getTime();\n",
      "\t\t\tthis.body.appendChild(js);\n",
      "\t\t};\n",
      "\t\tdoc.write('<body><script nonce=\"8349655762160441853\">(function(){document._l();})()\\x3C/script>\\x3C/body>');\n",
      "\t\tdoc.close();\n",
      "\t})();\n",
      "\t</script>\n",
      "<!--[if IE 9 ]>\n",
      "\t<script nonce=\"8349655762160441853\">\n",
      "\t\twindow.browserVersion = 'IE9';\n",
      "\t\tdocument.documentElement.className += ' ie9';\n",
      "\t</script>\n",
      "\t<![endif]-->\n",
      "<!--[if !IE]><!-->\n",
      "<script nonce=\"8349655762160441853\">\n",
      "\t\tif (/*@cc_on!@*/false) {\n",
      "\t\t\twindow.browserVersion = 'IE10';\n",
      "\t\t\tdocument.documentElement.className += ' ie10';\n",
      "\t\t}\n",
      "\t</script>\n",
      "<!--<![endif]-->\n",
      "<script nonce=\"8349655762160441853\">\n",
      "\t\twindow.fkfirstLoad = true;\n",
      "\t\tif (requestAnimationFrame && performance && performance.mark) {\n",
      "\t\t\trequestAnimationFrame(function () {\n",
      "\t\t\t\tperformance.mark(\"first_paint\");\n",
      "\t\t\t});\n",
      "\t\t}\n",
      "\t</script>\n",
      "</meta></meta></meta></meta></meta></meta></meta></meta></meta></meta></meta></meta></meta></meta></link></head>\n",
      "<body>\n",
      "<div id=\"container\"><div data-react-checksum=\"171881324\" data-reactid=\"1\" data-reactroot=\"\"><div class=\"A4KZv8\" data-reactid=\"2\"><div class=\"AFyd3c\" data-reactid=\"3\"><div class=\"_1EA4La\" data-reactid=\"4\"><div class=\"_1-baVo\" data-reactid=\"5\"><img class=\"_2P4x_N\" data-reactid=\"6\" src=\"data:image/svg+xml;base64,PHN2ZyB3aWR0aD0iMjAiIGhlaWdodD0iMjAiIHZpZXdCb3g9IjAgMCAyMCAyMCIgeG1sbnM9Imh0dHA6Ly93d3cudzMub3JnLzIwMDAvc3ZnIj48cGF0aCBkPSJNLTItMmgyNHYyNEgtMnoiIGZpbGw9Im5vbmUiLz48cGF0aCBkPSJNMTAgMjBDNC40OCAyMCAwIDE1LjUyIDAgMTBTNC40OCAwIDEwIDBzMTAgNC40OCAxMCAxMC00LjQ4IDEwLTEwIDEwem0xLTE1SDl2MmgyVjV6bTAgNEg5djZoMlY5eiIgZmlsbD0iIzE2ODJGOCIvPjwvc3ZnPgo=\"/></div><div class=\"JAUzCh\" data-reactid=\"7\"></div></div></div></div><header class=\"CGBNf7\" data-reactid=\"8\"><div class=\"_1tz-RS\" data-reactid=\"9\"><div class=\"_1H5F__\" data-reactid=\"10\"><div class=\"AsXM8z\" data-reactid=\"11\"><ul class=\"_3Ji-EC\" data-reactid=\"12\"><li class=\"_2sYLhZ\" data-reactid=\"13\"><a class=\"_2k0gmP\" data-reactid=\"14\" href=\"https://seller.flipkart.com/?utm_source=flipkart&amp;utm_medium=website&amp;utm_campaign=sellbutton\">Sell on Flipkart</a></li><li class=\"_2sYLhZ\" data-reactid=\"15\"><a class=\"_2k0gmP\" data-reactid=\"16\" href=\"http://ads.flipkart.com/?otracker=ch_vn_advertise_header\">Advertise</a></li><li class=\"_2sYLhZ\" data-reactid=\"17\"><a class=\"_2k0gmP\" data-reactid=\"18\" href=\"/buy-gift-voucher?otracker=ch_vn_gift-voucher\">Gift Card</a></li><li class=\"_2sYLhZ\" data-reactid=\"19\"><a class=\"_2k0gmP\" data-reactid=\"20\" href=\"/mobile-apps?otracker=ch_vn_mobile_apps\">Download App</a></li><li class=\"_2sYLhZ\" data-reactid=\"21\"><a class=\"_2k0gmP\" data-reactid=\"22\" href=\"/helpcentre\">24x7 Customer Care</a></li><li class=\"_2sYLhZ\" data-reactid=\"23\"><a class=\"_2k0gmP\" data-reactid=\"24\" href=\"/account/orders\">Track Order</a></li><li class=\"_2sYLhZ\" data-reactid=\"25\"><div class=\"_3caHOy\" data-reactid=\"26\"><a data-reactid=\"27\" href=\"/notifications?otracker=Notifications_view_all\"><div class=\"_3ZgaWY\" data-reactid=\"28\"><svg class=\"_10wpBK\" data-reactid=\"29\" height=\"20px\" width=\"16px\" xmlns=\"http://www.w3.org/2000/svg\"><path d=\"M8.037 17.546c1.487 0 2.417-.93 2.417-2.417H5.62c0 1.486.93 2.415 2.417 2.415m5.315-6.463v-2.97h-.005c-.044-3.266-1.67-5.46-4.337-5.98v-.81C9.01.622 8.436.05 7.735.05 7.033.05 6.46.624 6.46 1.325v.808c-2.667.52-4.294 2.716-4.338 5.98h-.005v2.972l-1.843 1.42v1.376h14.92v-1.375l-1.842-1.42z\" data-reactid=\"30\"></path></svg></div></a></div></li><li class=\"_2sYLhZ\" data-reactid=\"31\"><a class=\"_2k0gmP\" data-reactid=\"32\" href=\"/account/login?signup=true\">Signup</a></li><li class=\"_2sYLhZ\" data-reactid=\"33\"><a class=\"_2k0gmP\" data-reactid=\"34\" href=\"/account/login?ret=/\">Log In</a></li></ul></div></div><div class=\"Y5-ZPI\" data-reactid=\"35\"><div class=\"AsXM8z\" data-reactid=\"36\"><div class=\"row\" data-reactid=\"37\"><div class=\"_2OJxl5\" data-reactid=\"38\"><a data-reactid=\"39\" href=\"/\"><img alt=\"Flipkart\" data-reactid=\"40\" src=\"//img1a.flixcart.com/www/linchpin/fk-cp-zion/img/fk-logo_9fddff.png\" title=\"Flipkart\" width=\"149\"/></a></div><div class=\"_1NLCcM\" data-reactid=\"41\"><form action=\"/search\" class=\"_1WMLwI header-form-search\" data-reactid=\"42\" method=\"GET\"><div class=\"row\" data-reactid=\"43\"><div class=\"col-11-12\" data-reactid=\"44\"><div class=\"O8ZS_U\" data-reactid=\"45\"><input autocomplete=\"off\" class=\"LM6RPg\" data-reactid=\"46\" name=\"q\" placeholder=\"Search for Products, Brands and More\" title=\"Search for Products, Brands and More\" type=\"text\" value=\"\"/></div></div><div class=\"col-1-12\" data-reactid=\"47\"><button class=\"vh79eN\" data-reactid=\"48\" type=\"submit\"><svg class=\"_2BhAHa\" data-reactid=\"49\" height=\"15px\" width=\"15px\" xmlns=\"http://www.w3.org/2000/svg\"><path d=\"M11.618 9.897l4.224 4.212c.092.09.1.23.02.312l-1.464 1.46c-.08.08-.222.072-.314-.02L9.868 11.66M6.486 10.9c-2.42 0-4.38-1.955-4.38-4.367 0-2.413 1.96-4.37 4.38-4.37s4.38 1.957 4.38 4.37c0 2.412-1.96 4.368-4.38 4.368m0-10.834C2.904.066 0 2.96 0 6.533 0 10.105 2.904 13 6.486 13s6.487-2.895 6.487-6.467c0-3.572-2.905-6.467-6.487-6.467\" data-reactid=\"50\"></path></svg></button></div><input data-reactid=\"51\" name=\"otracker\" type=\"hidden\" value=\"start\"/><input data-reactid=\"52\" name=\"as-show\" type=\"hidden\" value=\"off\"/><input data-reactid=\"53\" name=\"as\" type=\"hidden\" value=\"off\"/></div><ul class=\"col-11-12 _1PBbw8\" data-reactid=\"54\"></ul></form></div><a class=\"_3NFO0d\" data-reactid=\"55\" href=\"/viewcart?otracker=Cart_Icon_Click\"><svg class=\"_20j1Vs\" data-reactid=\"56\" height=\"16\" viewbox=\"0 0 16 16\" width=\"16\" xmlns=\"http://www.w3.org/2000/svg\"><path class=\"\" d=\"M15.32 2.405H4.887C3 2.405 2.46.805 2.46.805L2.257.21C2.208.085 2.083 0 1.946 0H.336C.1 0-.064.24.024.46l.644 1.945L3.11 9.767c.047.137.175.23.32.23h8.418l-.493 1.958H3.768l.002.003c-.017 0-.033-.003-.05-.003-1.06 0-1.92.86-1.92 1.92s.86 1.92 1.92 1.92c.99 0 1.805-.75 1.91-1.712l5.55.076c.12.922.91 1.636 1.867 1.636 1.04 0 1.885-.844 1.885-1.885 0-.866-.584-1.593-1.38-1.814l2.423-8.832c.12-.433-.206-.86-.655-.86\" data-reactid=\"57\" fill=\"#fff\"></path></svg><!-- react-text: 58 -->CART<!-- /react-text --><span class=\"_2bVfmg\" data-reactid=\"59\">0</span></a></div></div></div></div><div class=\"zi6sUf\" data-reactid=\"60\"><div class=\"_3Ed3Ub\" data-reactid=\"61\"><ul class=\"_114Zhd\" data-reactid=\"62\"></ul></div></div><!-- react-empty: 63 --></header><div class=\"_3TvN5e\" data-reactid=\"64\"><div class=\"_2HP3SB\" data-reactid=\"65\"><div class=\"_3i3iiP\" data-reactid=\"66\"><div class=\"_1VV5Cf\" data-reactid=\"67\"><div class=\"_1SFos- _14bj8B\" data-reactid=\"68\" style=\"transform:scaleX(0);\"></div></div></div></div></div><footer class=\"HJlsB9\" data-reactid=\"69\"><div class=\"TW4owM\" data-reactid=\"70\"><div class=\"row\" data-reactid=\"71\"><div class=\"col gu12 _2-C188\" data-reactid=\"72\"><div class=\"_2w8bgn\" data-reactid=\"73\"><p></p><h2>Buy mobile phones online at best prices in India</h2><div><br/></div><div>Everyone is in a constant hunt for the mobile phone, or more correctly called the smartphone, that will fit all his/her requirements and would assure a guarantee of good performance. With a plethora of mobile phone brands foraying on a regular basis into the market, it’s a tough a call for the consumer to pick the right one. It’s always a wiser idea to buy mobile phones online, as the internet is the best place you can invest your time into, in order to conduct your share of investigation about the right smartphone by analysing mobile phone online reviews. </div><div><br/></div><h2>Best mobile brands to look out for</h2><div><br/></div><div>There have been some brands in the market which have stayed for the longest time and have earned the trust of consumers. These brands offer you a minimum guarantee regarding the performance and longevity of the smartphone. But again, it depends on your requirements about which brand you must choose. For instance, the <a href=\"https://www.flipkart.com/mobiles/mi~brand/pr?sid=tyy,4io\">Xiaomi phones</a> are quite a sought-after brand these days. They are high on demand for their battery life and performance. Xiaomi phones are perfect Android-based budget phones and they are pretty reasonably priced for their features. On the other hand, if you are looking for a high-end technology mobile with ultimate security, sophisticated software and great design, the <a href=\"https://www.flipkart.com/mobiles/apple~brand/pr?sid=tyy,4io\">iPhone</a> by Apple would be the first and last choice. Although these are priced higher than mobile phones from other brands, the iOS software based on which iPhone operates is unbeatable.If you are a fan of great design and style along with feature-richness in your smartphone, <a href=\"https://www.flipkart.com/mobiles/samsung~brand/pr?sid=tyy,4io\">Samsung mobiles</a> are the ones to own.Samsung keeps refreshing their phone design and style, and you are sure to find a phone that fits your style.Lenovo and Motorola are two other brands that have become quite popular. Consumers can get budget phones from these brands as well as expensive phones.</div><div><a href=\"https://www.flipkart.com/mobiles/lenovo~brand/pr?sid=tyy,4io\">Lenovo mobiles</a> have caught the eye of consumers with their great display, battery power and other features. Motorola has always been a safe choice and provides the guarantee that a good, feature rich smartphone should give.</div><div><br/></div><h2>How to buy a good mobile phone online?</h2><div><br/></div><div>When one plans to buy a mobile phone online, It’s advised that she/he considers factors like the network type, screen size, battery capacity, internal memory storage, sim type, the resolution of the front and back camera lens, what operating system and the specific version of operating system is used, how many cores are present in the processor, resolution of the screen and the like. These factors are very important to be considered as filtering out these will tell you exactly which smartphone to buy. If you are a light user you can easily go for a dual core mobile phone. If you are a gamer or someone who used his smartphone for a lot of high-speed activities, you must go for a hexa-core or octa-core phone. Similarly, all other factors have to be considered, or else, you might end up buying a phone that does not fit your requirements, or in another case one that is too sophisticated for your requirements.</div><div><span><br/></span></div><h2><span>Other popular smartphone brands</span><br/></h2><div><br/></div><div>Some other top brands in mobiles that will suit your requirements and style would be from <a href=\"https://www.flipkart.com/mobiles/vivo~brand/pr?sid=tyy,4io\">Vivo mobiles</a>,Panasonic mobiles, Asus mobiles,LG mobiles and the like. Lately popular phone <a href=\"https://www.flipkart.com/mobiles/lyf~brand/pr?sid=tyy,4io\">Lyf</a> has been purchased by lakhs of consumers for its highlight data providing feature along with other features..HTC is another sought-after brand which provides expensive as well as budget phones with awesome features. They provide some great phones like HTC Desire 620G, HTC Desire 626  and more. Windows based Nokia and  Micromax are brands that give you most of the necessary features at a pretty low price.</div><div><br/></div><div><a href=\"https://www.flipkart.com/mobiles/oppo~brand/pr?sid=tyy,4io\">Oppo mobiles</a> are widely purchased for their top notch hardware specifications, awesome display and amazing camera.Oppo f1 plus, Oppo A57,Oppo f1S are some of them that you don’t want to miss. Sony has always stood out against the competition. Their front and rear glass panels set a trend with their IP68 waterproof feature being a highlight.</div><div><br/></div><h2>What’s trending in mobile phones?</h2><div><br/></div><div>Stay plugged-into what’s happening latest in the smartphone world by getting regularly updated online. All best brands try experimenting with their products with varying features and specifications. One phone you need to look out for is the <a href=\"https://www.flipkart.com/mobiles/~redmi-note-4/pr?sid=tyy%2C4io\">Redmi Note 4</a> which gives you a great hand feel with its curvy design, 4GB RAM and awesome camera specs. The latest dual sim phone Lenovo K6 Power has a 3GB RAM and 32GB internal storage is a budget phone with striking features.</div><div><br/></div><div>Samsung Galaxy On Nxt is one of the sought-after mobile phones which has 1.6 GHz octa-core processor with 3GB RAM.With high resolution camera, this is definitely one to look out for. With advanced digital sound technology, Full HD display and large battery one that is selling like hot cakes is the Lenovo Vibe K5 Note. Yet another budget phone with great features has been launched by Mi, called the Redmi 3S.Much lighter and thinner than its predecessor Redmi 2, this piece of technology has a large battery, great design and great processor. Other phones that have to be unboxed and discovered for yourself are the iPhone7, Google Pixel, Samsung Galaxy On 8, Galaxy J5-6,Moto M and the like.</div><div><br/></div><h2>Exclusive mobiles on Flipkart</h2><div><br/></div><div>We wish to serve you  the best, first. Some of the best mobiles online have been brought to you by us. The Android-based Samsung Galaxy On8 is very reasonably priced for its features.With the Samsung Touch Wiz Interface and brightness sensor, this phone is a good investment.</div><p><br/></p><p>The Rose Gold coloured Oppo f1S is another piece of technology that we give you at one of the best prices available. Lyf Wind 3 from Jio is also an exclusive product with the benefit of the Jio 4G packed with this phone. </p><strong>EXCLUSIVE LAUNCHES : <a href=\"http://www.flipkart.com/moto-g5-plus-intrigue\">Moto G5  Plus</a>, <a href=\"https://www.flipkart.com/mobiles/~samsung-galaxy-s8-and-samsung-galaxy-s8-plus/pr?sid=tyy,4io\">Samsung S8</a></strong><p></p><div><br/></div><div><br/></div><p></p><p></p></div></div></div><div data-reactid=\"74\"><div class=\"row\" data-reactid=\"75\"><div class=\"_3qd5C5 col col-4-12\" data-reactid=\"76\"><div class=\"mae7t_\" data-reactid=\"77\"><div class=\"_18wTSA\" data-reactid=\"78\">HELP</div><a class=\"_287FRX\" data-reactid=\"79\" href=\"/s/help/payments?otracker=undefined_footer_navlinks\">Payments</a><a class=\"_287FRX\" data-reactid=\"80\" href=\"/help/savedcard_how?otracker=undefined_footer_navlinks\">Saved Cards</a><a class=\"_287FRX\" data-reactid=\"81\" href=\"/s/help/shipping?otracker=undefined_footer_navlinks\">Shipping</a><a class=\"_287FRX\" data-reactid=\"82\" href=\"/s/help/cancellation-returns?otracker=undefined_footer_navlinks\">Cancellation &amp; Returns</a><a class=\"_287FRX\" data-reactid=\"83\" href=\"/s/help?otracker=undefined_footer_navlinks\">FAQ</a><a class=\"_287FRX\" data-reactid=\"84\" href=\"https://seller.flipkart.com/fiv?otracker=undefined_footer_navlinks\">Report Infringement</a></div></div><div class=\"_3qd5C5 col col-4-12\" data-reactid=\"85\"><div class=\"NIKvaI\" data-reactid=\"86\"><div class=\"_18wTSA\" data-reactid=\"87\">FLIPKART</div><a class=\"_287FRX\" data-reactid=\"88\" href=\"/s/contact?otracker=undefined_footer_navlinks\">Contact Us</a><a class=\"_287FRX\" data-reactid=\"89\" href=\"/about-us?otracker=undefined_footer_navlinks\">About Us</a><a class=\"_287FRX\" data-reactid=\"90\" href=\"/ol?link=http%3A%2F%2Fwww.flipkartcareers.com%2F&amp;otracker=undefined_footer_navlinks\">Careers</a><a class=\"_287FRX\" data-reactid=\"91\" href=\"http://stories.flipkart.com/?otracker=undefined_footer_navlinks\">Flipkart Stories</a><a class=\"_287FRX\" data-reactid=\"92\" href=\"/s/press?otracker=undefined_footer_navlinks\">Press</a><a class=\"_287FRX\" data-reactid=\"93\" href=\"https://seller.flipkart.com/?utm_source=flipkart&amp;utm_medium=website&amp;utm_campaign=sellbutton\">Sell on Flipkart</a></div></div><div class=\"_3qd5C5 col col-4-12\" data-reactid=\"94\"><div class=\"wC1W-g\" data-reactid=\"95\"><div class=\"_18wTSA\" data-reactid=\"96\">MISC</div><a class=\"_287FRX\" data-reactid=\"97\" href=\"https://www.flipkart.com?otracker=undefined_footer_navlinks\">Online Shopping</a><a class=\"_287FRX\" data-reactid=\"98\" href=\"https://affiliate.flipkart.com?otracker=undefined_footer_navlinks\">Affiliate Program</a><a class=\"_287FRX\" data-reactid=\"99\" href=\"/buy-gift-voucher?otracker=undefined_footer_navlinks\">Gift Card</a><a class=\"_287FRX\" data-reactid=\"100\" href=\"/flipkart-first?otracker=undefined_footer_navlinks\">Flipkart First Subscription</a><a class=\"_287FRX\" data-reactid=\"101\" href=\"/mobile-apps?otracker=undefined_footer_navlinks\"><div class=\"AX4izK\" data-reactid=\"102\"></div></a></div></div></div><div class=\"row\" data-reactid=\"103\"><div class=\"col gu12\" data-reactid=\"104\"><div class=\"_2pd5wH\" data-reactid=\"105\"><div class=\"row\" data-reactid=\"106\"><div class=\"_12Pt90 col col-4-12\" data-reactid=\"107\"><div data-reactid=\"108\"><i class=\"_19jTLO _2FH1aM\" data-reactid=\"109\"></i><div class=\"gLnKnX\" data-reactid=\"110\"><div data-reactid=\"111\">Track your</div><!-- react-text: 112 --> <!-- /react-text --><div data-reactid=\"113\">order</div></div></div></div><div class=\"_3lrtQ_ col col-4-12\" data-reactid=\"114\"><i class=\"fC1vcP _2FH1aM\" data-reactid=\"115\"></i><div class=\"gLnKnX\" data-reactid=\"116\"><div data-reactid=\"117\">Free &amp; easy</div><div data-reactid=\"118\"> returns</div></div></div><div class=\"_2NvQ_q col col-4-12\" data-reactid=\"119\"><i class=\"_2XOI3b _2FH1aM\" data-reactid=\"120\"></i><div class=\"gLnKnX\" data-reactid=\"121\"><div data-reactid=\"122\">Online</div><div data-reactid=\"123\"> cancellations</div></div></div></div></div></div></div><div class=\"row\" data-reactid=\"124\"><div class=\"_1DXv5h col col-8-12\" data-reactid=\"125\"><span data-reactid=\"126\"><span class=\"policies-title footertitle\" data-reactid=\"127\">Policies:</span><a class=\"_3llQHu\" data-reactid=\"128\" href=\"/returnpolicy\">Returns Policy</a><a class=\"_3llQHu\" data-reactid=\"129\" href=\"/s/terms\">Terms of use</a><a class=\"_3llQHu\" data-reactid=\"130\" href=\"/s/paymentsecurity\">Security</a><a class=\"_3llQHu\" data-reactid=\"131\" href=\"/s/privacypolicy\">Privacy</a><a class=\"_3llQHu\" data-reactid=\"132\" href=\"https://seller.flipkart.com/fiv\">Infringement</a></span><span class=\"_2tFDQF\" data-reactid=\"133\"><!-- react-text: 134 -->© 2007-<!-- /react-text --><!-- react-text: 135 -->2017<!-- /react-text --><!-- react-text: 136 --> <!-- /react-text --><span data-reactid=\"137\">Flipkart.com.</span></span></div><div class=\"_1DXv5h _2uGUAL col col-4-12\" data-reactid=\"138\"><span data-reactid=\"139\">Keep in touch</span><a class=\"_3BNkWJ _2EqWRh\" data-reactid=\"140\" href=\"/ol?link=http://www.facebook.com/flipkart\" rel=\"noopener noreferrer\" target=\"_blank\"></a><a class=\"_1gaRkv _2EqWRh\" data-reactid=\"141\" href=\"/ol?link=http://www.twitter.com/flipkart\" rel=\"noopener noreferrer\" target=\"_blank\"></a><a class=\"_1dlzPn _2EqWRh\" data-reactid=\"142\" href=\"/ol?link=https://plus.google.com/109591199284807005836/posts\" rel=\"noopener noreferrer\" target=\"_blank\"></a><a class=\"_2GU83R _2EqWRh\" data-reactid=\"143\" href=\"/ol?link=http://www.youtube.com/flipkart\" rel=\"noopener noreferrer\" target=\"_blank\"></a></div></div></div><div class=\"row\" data-reactid=\"144\"><div class=\"col gu12\" data-reactid=\"145\"><div class=\"PPB6NR\" data-reactid=\"146\"><h2 class=\"_1fwBsP\" data-reactid=\"147\">PAYMENT METHOD</h2><div class=\"qrCdDp\" data-reactid=\"148\"></div></div></div></div><div class=\"_3niCAn\" data-reactid=\"149\"><div class=\"row\" data-reactid=\"150\"><div class=\"col col-6-12\" data-reactid=\"151\"><div class=\"_-5zFHs\" data-reactid=\"152\"><div class=\"_1NCIA7\" data-reactid=\"153\"><span data-reactid=\"154\"><span data-reactid=\"155\">Mail Us:</span></span></div><address class=\"_3DPJqC\" data-reactid=\"156\"><div class=\"_3Lv0nZ\" data-reactid=\"157\"><div class=\"_3aS5mM _3DPJqC\" data-reactid=\"158\"><p>Flipkart Internet Private Limited, </p>\n",
      "<p> Ozone Manay Tech Park, </p>\n",
      "<p> #56/18 &amp; 55/09, 7th Floor, </p>\n",
      "<p> Garvebhavipalya, Hosur Road, </p>\n",
      "<p> Bangalore - 560068, </p>\n",
      "<p> Karnataka, India.</p>\n",
      "</div></div></address></div></div><div class=\"col col-6-12\" data-reactid=\"159\"><div class=\"_1Qdplc\" data-reactid=\"160\"><div class=\"_1NCIA7\" data-reactid=\"161\"><span data-reactid=\"162\"><span data-reactid=\"163\">Registered Office Address:</span></span></div><address class=\"_3DPJqC\" data-reactid=\"164\"><div class=\"_3Lv0nZ\" data-reactid=\"165\"><div class=\"_3aS5mM _3DPJqC\" data-reactid=\"166\"><p>Flipkart Internet Private Limited, </p>\n",
      "<p> Vaishnavi Summit, Ground Floor, 7th Main, </p>\n",
      "<p> 80 Feet Road, 3rd Block, </p>\n",
      "<p> Koramangala, </p>\n",
      "<p> Bengaluru - 560034 </p>\n",
      "<p> India </p>\n",
      "<p> CIN : U51109KA2012PTC066107 </p>\n",
      "<p> Telephone: <a href=\"tel:18002089898\">1800 208 9898</a></p>\n",
      "</div></div></address></div></div></div></div></div></footer><div class=\"_16c-eX\" data-reactid=\"167\"><div class=\"kxUxS5\" data-reactid=\"168\"><svg class=\"j43Uvy\" data-reactid=\"169\" height=\"27\" viewbox=\"0 0 16 27\" width=\"16\" xmlns=\"http://www.w3.org/2000/svg\"><path class=\"_14b0BE\" d=\"M16 23.207L6.11 13.161 16 3.093 12.955 0 0 13.161l12.955 13.161z\" data-reactid=\"170\" fill=\"#fff\"></path></svg><span data-reactid=\"171\">Back to top</span></div></div></div></div>\n",
      "<script nonce=\"8349655762160441853\" type=\"application/ld+json\">\n",
      "{\n",
      "    \"@context\": \"http://schema.org\",\n",
      "    \"@type\": \"WebSite\",\n",
      "    \"url\": \"http://www.flipkart.com/\",\n",
      "    \"potentialAction\": [{\n",
      "        \"@type\": \"SearchAction\",\n",
      "        \"target\": \"http://www.flipkart.com/search?q={search_term_string}\",\n",
      "        \"query-input\": \"required name=search_term_string\"\n",
      "        },{\n",
      "        \"@type\": \"SearchAction\",\n",
      "        \"target\": \"android-app://com.flipkart.android/flipkart/de_sq_seg_-search.flipkart.com-_{search_term_string}\",\n",
      "        \"query-input\": \"required name=search_term_string\"\n",
      "    }]\n",
      "}\n",
      "</script>\n",
      "<script id=\"is_script\" nonce=\"8349655762160441853\">\n",
      "\twindow.__INITIAL_STATE__ = {\"abExperiments\":{\"newTab\":true,\"goToCart\":true},\"navigation\":{\"asyncStatus\":\"INIT\",\"navData\":{}},\"quicklinks\":{\"asyncStatus\":\"INIT\",\"data\":[]},\"layouts\":{\"asyncStatus\":\"INIT\"},\"pageData\":{\"__page\":\"\"},\"userState\":{\"cart\":{\"items\":[]},\"asyncStatus\":\"SUCCESS\",\"abResponse\":{\"abDataId\":1672955857,\"abExperiments\":[{\"abId\":\"1535ef53\",\"appId\":\"TNS\",\"expId\":\"mlModelV1Al2\",\"layerName\":\"rto_cod\",\"metadata\":{}},{\"abId\":\"15808695\",\"appId\":\"CXSelfServe\",\"expId\":\"Dont_Expect_Pilot\",\"layerName\":\"PostOrderRelated\",\"metadata\":{\"dont_expect\":true}},{\"abId\":\"8823453d\",\"appId\":\"zulu\",\"expId\":\"size_chart_in_product_images\",\"layerName\":\"Zulu2\",\"metadata\":{\"product_base_info\":\"product_base_info_size_chart_image\",\"product_attributes_big\":\"product_attributes_big\"}},{\"abId\":\"9a97f134\",\"appId\":\"Desktop\",\"expId\":\"New Tab Test\",\"layerName\":\"Desktop - Product Page\",\"metadata\":{\"newTab\":true}},{\"abId\":\"bbda05d3\",\"appId\":\"sherlock\",\"expId\":\"PricePersonalization20Apr\",\"layerName\":\"search-ranking\",\"metadata\":{\"bucket[]\":\"ppstorepath\"}},{\"abId\":\"d3d33839\",\"appId\":\"Mapi\",\"expId\":\"Low ASP PP + d2r no navigation\",\"layerName\":\"Transact\",\"metadata\":{\"enableFAFreeDelivery\":true,\"showD2RnavigationBar\":\"NO_NAVIGATION_BAR\"}},{\"abId\":\"d8492f60\",\"appId\":\"Desktop\",\"expId\":\"Cart Test\",\"layerName\":\"Desktop E2E Environment\",\"metadata\":{\"goToCart\":true}},{\"abId\":\"f840c774\",\"appId\":\"sherlock\",\"expId\":\"Rich_Search_Reverse_10Apr\",\"layerName\":\"sherlock-matching\",\"metadata\":{\"rich-disabled\":true}},{\"abId\":\"fbb9009f\",\"appId\":\"Checkout\",\"expId\":\"Exp_ais_control\",\"layerName\":\"Paymets\",\"metadata\":{}},{\"abId\":\"fcc154df\",\"appId\":\"fse\",\"expId\":\"CONTROL\",\"layerName\":\"promise\",\"metadata\":{\"CONTROL\":true}}]},\"location\":{\"communityStore\":null,\"selectedLocation\":null,\"userAddressResponse\":null},\"accountId\":null,\"firstName\":null,\"flipkartFirstUser\":false,\"isLoggedIn\":false,\"lastName\":null,\"ts\":0,\"pincode\":null,\"userEmail\":null},\"inAppNotifications\":{\"isFetching\":false,\"notifications\":[],\"asyncStatus\":\"INIT\"},\"autosuggest\":{\"query\":null,\"words\":{},\"asyncStatus\":\"INIT\"},\"productInfo\":{\"ttl\":{}},\"offerInfo\":{\"items\":[]},\"seoMeta\":{\"isFetching\":false,\"metadata\":{\"seo\":{\"alexaVerifyId\":false,\"content\":\"<p></p><h2>Buy mobile phones online at best prices in India</h2><div><br/></div><div>Everyone is in a constant hunt for the mobile phone, or more correctly called the smartphone, that will fit all his/her requirements and would assure a guarantee of good performance. With a plethora of mobile phone brands foraying on a regular basis into the market, it&#8217;s a tough a call for the consumer to pick the right one. It&#8217;s always a wiser idea to buy mobile phones online, as the internet is the best place you can invest your time into, in order to conduct your share of investigation about the right smartphone by analysing mobile phone online reviews.&#160;</div><div><br/></div><h2>Best mobile brands to look out for</h2><div><br/></div><div>There have been some brands in the market which have stayed for the longest time and have earned the trust of consumers. These brands offer you a minimum guarantee regarding the performance and longevity of the smartphone. But again, it depends on your requirements about which brand you must choose. For instance, the <a href=\\\"https://www.flipkart.com/mobiles/mi~brand/pr?sid=tyy,4io\\\">Xiaomi phones</a> are quite a sought-after brand these days. They are high on demand for their battery life and performance. Xiaomi phones are perfect Android-based budget phones and they are pretty reasonably priced for their features. On the other hand, if you are looking for a high-end technology mobile with ultimate security, sophisticated software and great design, the <a href=\\\"https://www.flipkart.com/mobiles/apple~brand/pr?sid=tyy,4io\\\">iPhone</a> by Apple would be the first and last choice. Although these are priced higher than mobile phones from other brands, the iOS software based on which iPhone operates is unbeatable.If you are a fan of great design and style along with feature-richness in your smartphone, <a href=\\\"https://www.flipkart.com/mobiles/samsung~brand/pr?sid=tyy,4io\\\">Samsung mobiles</a> are the ones to own.Samsung keeps refreshing their phone design and style, and you are sure to find a phone that fits your style.Lenovo and Motorola are two other brands that have become quite popular. Consumers can get budget phones from these brands as well as expensive phones.</div><div><a href=\\\"https://www.flipkart.com/mobiles/lenovo~brand/pr?sid=tyy,4io\\\">Lenovo mobiles</a> have caught the eye of consumers with their great display, battery power and other features. Motorola has always been a safe choice and provides the guarantee that a good, feature rich smartphone should give.</div><div><br/></div><h2>How to buy a good mobile phone online?</h2><div><br/></div><div>When one plans to buy a mobile phone online, It&#8217;s advised that she/he considers factors like the network type, screen size, battery capacity, internal memory storage, sim type, the resolution of the front and back camera lens, what operating system and the specific version of operating system is used, how many cores are present in the processor, resolution of the screen and the like. These factors are very important to be considered as filtering out these will tell you exactly which smartphone to buy. If you are a light user you can easily go for a dual core mobile phone. If you are a gamer or someone who used his smartphone for a lot of high-speed activities, you must go for a hexa-core or octa-core phone. Similarly, all other factors have to be considered, or else, you might end up buying a phone that does not fit your requirements, or in another case one that is too sophisticated for your requirements.</div><div><span><br/></span></div><h2><span>Other popular smartphone brands</span><br/></h2><div><br/></div><div>Some other top brands in mobiles that will suit your requirements and style would be from <a href=\\\"https://www.flipkart.com/mobiles/vivo~brand/pr?sid=tyy,4io\\\">Vivo mobiles</a>,Panasonic mobiles, Asus mobiles,LG mobiles and the like. Lately popular phone <a href=\\\"https://www.flipkart.com/mobiles/lyf~brand/pr?sid=tyy,4io\\\">Lyf</a> has been purchased by lakhs of consumers for its highlight data providing feature along with other features..HTC is another sought-after brand which provides expensive as well as budget phones with awesome features. They provide some great phones like HTC Desire 620G, HTC Desire 626  and more. Windows based Nokia and  Micromax are brands that give you most of the necessary features at a pretty low price.</div><div><br/></div><div><a href=\\\"https://www.flipkart.com/mobiles/oppo~brand/pr?sid=tyy,4io\\\">Oppo mobiles</a> are widely purchased for their top notch hardware specifications, awesome display and amazing camera.Oppo f1 plus, Oppo A57,Oppo f1S are some of them that you don&#8217;t want to miss. Sony has always stood out against the competition. Their front and rear glass panels set a trend with their IP68 waterproof feature being a highlight.</div><div><br/></div><h2>What&#8217;s trending in mobile phones?</h2><div><br/></div><div>Stay plugged-into what&#8217;s happening latest in the smartphone world by getting regularly updated online. All best brands try experimenting with their products with varying features and specifications. One phone you need to look out for is the <a href=\\\"https://www.flipkart.com/mobiles/~redmi-note-4/pr?sid=tyy%2C4io\\\">Redmi Note 4</a> which gives you a great hand feel with its curvy design, 4GB RAM and awesome camera specs. The latest dual sim phone Lenovo K6 Power has a 3GB RAM and 32GB internal storage is a budget phone with striking features.</div><div><br/></div><div>Samsung Galaxy On Nxt is one of the sought-after mobile phones which has 1.6 GHz octa-core processor with 3GB RAM.With high resolution camera, this is definitely one to look out for. With advanced digital sound technology, Full HD display and large battery one that is selling like hot cakes is the Lenovo Vibe K5 Note. Yet another budget phone with great features has been launched by Mi, called the Redmi 3S.Much lighter and thinner than its predecessor Redmi 2, this piece of technology has a large battery, great design and great processor. Other phones that have to be unboxed and discovered for yourself are the iPhone7, Google Pixel, Samsung Galaxy On 8, Galaxy J5-6,Moto M and the like.</div><div><br/></div><h2>Exclusive mobiles on Flipkart</h2><div><br/></div><div>We wish to serve you  the best, first. Some of the best mobiles online have been brought to you by us. The Android-based Samsung Galaxy On8 is very reasonably priced for its features.With the Samsung Touch Wiz Interface and brightness sensor, this phone is a good investment.</div><p><br/></p><p>The Rose Gold coloured Oppo f1S is another piece of technology that we give you at one of the best prices available. Lyf Wind 3 from Jio is also an exclusive product with the benefit of the Jio 4G packed with this phone.&#160;</p><strong>EXCLUSIVE LAUNCHES : <a href=\\\"http://www.flipkart.com/moto-g5-plus-intrigue\\\">Moto G5 &#160;Plus</a>, <a href=\\\"https://www.flipkart.com/mobiles/~samsung-galaxy-s8-and-samsung-galaxy-s8-plus/pr?sid=tyy,4io\\\">Samsung S8</a></strong><p></p><div><br/></div><div><br/></div><p></p><p></p>\",\"description\":\"Buy Mobiles Online at Best Price in India - Get all new mobiles and smartphones online from best brands like Samsung, Apple, Mi, Motorola & more. Compare mobiles and make your choice from latest mobile phones.\",\"googleSiteVerification\":false,\"headerContent\":\"<p>There is a growing trend by which consumers tend to replace old mobile phones with new ones, every time a good one is launched. Certain brands like <a href=\\\"https://www.flipkart.com/mobiles/samsung~brand/pr?sid=tyy,4io\\\">Samsung</a>, Google and Apple are constantly under watch by smartphone users to buy their new mobile phone online whenever they are released owing to the trust consumers have on them. <a href=\\\"https://www.flipkart.com/mobiles/lenovo~brand/pr?sid=tyy,4io\\\">Lenovo</a> is another veteran mobile phone manufacturer that has been standing the test of time and excelling each time.The comparatively new brands like <a href=\\\"https://www.flipkart.com/mobiles/mi~brand/pr?sid=tyy,4io\\\">Xiaomi</a> and <a href=\\\"https://www.flipkart.com/mobiles/motorola~brand/pr?sid=tyy,4io\\\">Motorola</a> are also giving the veterans a good fight. The number of processor cores, the internal memory storage, the resolution of the phone are factors one must focus on before buying a smartphone online.</p>\",\"keywords\":\"Mobiles, Mobile Phones, Buy Mobile Phones Online, Mobiles India, Smartphones\",\"noIndexSeo\":false,\"ogTitle\":\"Mobiles | Buy Mobiles Online at Best Prices in India | Shop Online for Smartphones at Flipkart.com\",\"title\":\"Mobiles | Buy Mobiles Online at Best Prices in India | Shop Online for Smartphones at Flipkart.com\"},\"links\":null},\"asyncStatus\":\"SUCCESS\"},\"config\":{\"isFetching\":false,\"data\":{\"globalConfig\":{\"deferReco\":false,\"degradeImage\":false,\"disableQuicklinks\":false,\"disableFDPTracking\":false,\"disableRecentlyViewed\":false,\"disableReco\":false,\"disableReview\":false,\"disableSearch\":false,\"disableSearchRetry\":false,\"disableSeo\":false,\"enableBbdChanges\":false,\"offerZoneMorePosition\":-1,\"searchSummaryBatches\":[10,10,20,20],\"enableProductPageServerRendering\":true,\"enableHomePageServerRendering\":true,\"enableStreaming\":true,\"saleAddToCartBuyNowEnableTimeout\":true,\"saleAddToCartBuyNowTimeout\":[10,15],\"saleAddToCartBuyNowLIDBlacklist\":[],\"saleAddToCartBuyNowDisable\":false,\"enableInlineFilters\":true},\"cobrandedExperience\":{\"yahoo\":{\"logo\":\"https://img1a.flixcart.com/www/promos/new/20161121-160909-yahoo-store.png\",\"class\":\"yahoo-store\",\"store-link\":\"https://in.yahoo.com/\",\"store-name\":\"Go Back to Yahoo.in\",\"tracking-name\":\"yahoocobr\",\"pixel-tracking-url\":\"https://sp.analytics.yahoo.com/spp.pl?a=10000&.yp=10021645\",\"search-pixel-url\":\"https://bat.bing.com/action/0?ti=4003414&Ver=2\"},\"airtel\":{\"logo\":\"http://img5a.flixcart.com/www/promos/new/20150618-144245-header-airtel-white.png\",\"class\":\"airtel-store\",\"store-link\":\"www.airtel.in\",\"store-name\":\"Go Back to Airtel.in\",\"tracking-name\":\"airtel-cobrand-store\"},\"offers\":{\"logo\":\"https://img1a.flixcart.com/www/promos/new/20150618-145909-header-smartbuy-white.png\",\"class\":\"hdfc-store \",\"store-link\":\"www.smartbuy.hdfcbank.com\",\"store-name\":\"Go Back to Smart buy\",\"tracking-name\":\"hdfc-cobrand-store\",\"footer\":\"Exclusive store, for HDFC Bank customers!\"},\"bhaskar\":{\"logo\":\"http://img6a.flixcart.com/www/promos/new/20150618-142842-header-logo-bhaskar.png\",\"class\":\"bhasker-store \",\"store-link\":\"www.dainikbhaskar.com\",\"store-name\":\"Go Back to Dainik Bhaskar\",\"tracking-name\":\"dainik-cobrand-store\"},\"itzcash\":{\"logo\":\"https://rukminim1.flixcart.com/www/245/50/promos/09/01/2017/c1c2c887-ba6f-4346-9bac-fd98e208bb03.png?q=90\",\"class\":\"itzcash-store\",\"store-link\":\"http://itzcash.com\",\"store-name\":\"Go Back to Itzcash-store\",\"tracking-name\":\"itzcash-cobrand-store\",\"footer\":\"Exclusive store, for Itz cash store customers!\"},\"indusind\":{\"logo\":\"https://img1a.flixcart.com/www/promos/new/20160620-133321-powered-header-indusindbank-new.png\",\"class\":\"indusind-store\",\"store-link\":\"http://indusind.store.flipkart.com/\",\"store-name\":\"Go back go indsland store\",\"tracking-name\":\"indusind-cobrand-store\",\"footer\":\"Exclusive store for Induslnd Bank customers!\"}}},\"isError\":false,\"isLoaded\":true,\"responseMeta\":{\"params\":null,\"versions\":{\"globalConfig\":\"globalConfig.device.desktop.127\",\"cobrandedExperience\":\"cobrandedExperience.device.desktop.18\"}}},\"misc\":{\"hostname\":\"www.flipkart.com\",\"nonce\":\"8349655762160441853\",\"anchorTagMap\":{\"atlc2\":true,\"atlssmo\":true}},\"searchResults\":{\"asyncStatus\":\"INIT\",\"hasData\":false,\"options\":{},\"newSearch\":true},\"filters\":{\"asyncStatus\":\"INIT\"},\"swatches\":{\"asyncStatus\":\"INIT\",\"productSwatchDetails\":{}},\"productReviews\":{\"asyncStatus\":\"INIT\"},\"ratingsAndReviews\":{\"ratingsData\":{},\"reviewsData\":{\"asyncStatus\":\"INIT\",\"reviewsData\":{},\"activeTab\":0,\"REVIEW_COUNT\":10},\"tabsData\":{}},\"readReviewsPage\":{\"asyncStatus\":\"INIT\"},\"wishlistItemDetails\":{\"asyncStatus\":\"INIT\"},\"modal\":null,\"compareWidgetData\":[],\"comparePageData\":{\"asyncStatus\":\"INIT\",\"showDifference\":false},\"compareBrandData\":{\"asyncStatus\":\"INIT\"},\"compareAddProductData\":{\"asyncStatus\":\"INIT\",\"brandvsproduct\":{},\"brand\":null},\"similarProducts\":{\"asyncStatus\":\"INIT\"},\"productPage\":{\"verifyImeiInfo\":{\"asyncStatus\":\"INIT\"},\"productSimilarReco\":{\"asyncStatus\":\"INIT\"},\"productCrossVerticalReco\":{\"asyncStatus\":\"INIT\"},\"productBrowsingHistoryReco\":{\"asyncStatus\":\"INIT\"},\"productDetails\":{\"asyncStatus\":\"INIT\"},\"productActions\":{\"share\":{\"asyncStatus\":\"INIT\"}},\"exchangeCartInfo\":{\"asyncStatus\":\"INIT\"},\"productReservation\":{\"asyncStatus\":\"INIT\"},\"productLayout\":{\"asyncStatus\":\"INIT\"},\"productImage\":{\"defaultMedia\":null},\"wiggleSwatches\":{}},\"sellersPage\":{\"asyncStatus\":\"INIT\"},\"productSummary\":{},\"reviewPageData\":{\"asyncStatus\":\"INIT\"},\"reviewsConfirmationPage\":{\"asyncStatus\":\"INIT\"},\"buyingGuides\":{},\"tooltip\":{\"id\":null},\"deferredContent\":{\"data\":{}},\"pincodeData\":{\"localPincodes\":[],\"suggestions\":[],\"invalid\":false,\"asyncStatus\":\"INIT\"},\"recentlyViewed\":{\"asyncStatus\":\"INIT\"},\"networkStatus\":\"ONLINE\",\"cartData\":{\"asyncStatus\":\"INIT\"},\"checkoutPage\":{\"summary\":{\"asyncStatus\":\"INIT\"},\"checkoutAsyncStatus\":\"INIT\",\"addressCache\":{\"newAddressForm\":{\"id\":\"newAddressForm\",\"name\":\"\",\"addressLine1\":\"\",\"addressLine2\":\"\",\"landmark\":\"\",\"city\":\"\",\"state\":\"\",\"pincode\":\"\",\"phone\":\"\",\"alternatePhone\":\"\",\"locationTypeTag\":\"\"}},\"visualState\":{\"login\":\"EXPANDED\",\"address\":\"COLLAPSED\",\"orderSummary\":\"COLLAPSED\",\"payment\":\"COLLAPSED\"},\"loginState\":{\"asyncStatus\":\"INIT\"},\"buyNow\":{\"eids\":\"\",\"domain\":\"physical\"},\"paymentToken\":{\"asyncStatus\":\"INIT\"}},\"payments\":{\"paymentOptions\":{\"asyncStatus\":\"INIT\"},\"instrumentCheck\":{\"offerSequenceNumber\":0},\"payWithDetails\":{\"asyncStatus\":\"INIT\"},\"payByInstrumentType\":{\"asyncStatus\":\"INIT\"},\"emiTerms\":{\"asyncStatus\":\"INIT\"},\"emiState\":{\"selectedBank\":\"\",\"selectedTenure\":\"\",\"selectedSection\":\"\"},\"captcha\":{\"asyncStatus\":\"INIT\"},\"emiCards\":{\"asyncStatus\":\"INIT\"},\"emiBanks\":{},\"emiTenures\":{},\"netOptions\":{},\"payViaWallet\":{\"asyncStatus\":\"INIT\"},\"selectedPaymentOption\":{\"mainOption\":\"\",\"emiCard\":\"\"},\"adjustments\":{},\"paymentAsyncStatus\":\"INIT\"},\"postOrderDetails\":{\"asyncStatus\":\"INIT\"},\"myOrders\":{\"asyncStatus\":\"INIT\"},\"returns\":{\"asyncStatus\":\"INIT\",\"subStatus\":\"REASON\"},\"returnAddress\":{\"asyncStatus\":\"INIT\"},\"ifscFinderData\":{\"asyncStatus\":\"INIT\"},\"orderCancellation\":{\"asyncStatus\":\"INIT\"},\"deliverySlots\":{\"asyncStatus\":\"INIT\"},\"subscription\":{\"asyncStatus\":\"INIT\"},\"orderConfirmationPage\":{\"asyncStatus\":\"INIT\"},\"staticPage\":{\"asyncStatus\":\"INIT\"},\"giveAwayData\":{\"asyncStatus\":\"INIT\"},\"productBuyBack\":{\"ttl\":{}}};\n",
      "</script>\n",
      "<script nonce=\"8349655762160441853\">\n",
      "\twindow.omniture={tpv:[],tl:[]};window.omniture.trackPageView=function(){window.omniture.tpv.push(arguments)};window.omniture.trackLink=function(){window.omniture.tl.push(arguments)}\n",
      "\n",
      "    if(window.location.host === 'www.flipkart.com' || /\\.store\\.flipkart\\.com/i.test(window.location.host)){\n",
      "        window.s_account = \"flipkart-prd\"; //omniture account id\n",
      "    }else{\n",
      "        window.s_account = \"flipkart-prd-test\";\n",
      "    }\n",
      "    window.s_isDesktop = true;\n",
      "\n",
      "\tif ('serviceWorker' in navigator && navigator.userAgent.indexOf(\"Mobile\") === -1) {\n",
      "\t\tnavigator.serviceWorker.register('/sw.js').then(function(registration) {\n",
      "\t\t\tconsole.log('ServiceWorker registration successful with scope: ', registration.scope);\n",
      "\t\t})\n",
      "\t\t.catch(function(err) {\n",
      "\t\t\tconsole.error('ServiceWorker registration failed: ', err);\n",
      "\t\t});\n",
      "\t} else if('serviceWorker' in navigator && navigator.userAgent.indexOf(\"Mobile\") > -1){\n",
      "        navigator.serviceWorker.getRegistration().then(function(registration) {\n",
      "            var serviceWorkerUnregistered=false;\n",
      "            if(registration) {\n",
      "                registration.unregister();\n",
      "                serviceWorkerUnregistered=true;\n",
      "            }\n",
      "            serviceWorkerUnregistered && window.location.reload();\n",
      "        });\n",
      "    }\n",
      "\n",
      "    window.criteo_q = window.criteo_q || [];\n",
      "    window.criteo_q.push(\n",
      "        { event: \"setAccount\", account: 13746 },\n",
      "        { event: \"setSiteType\", type: \"d\" }\n",
      "    );\n",
      "</script>\n",
      "<script nonce=\"8349655762160441853\" src=\"//img1a.flixcart.com/www/linchpin/batman-returns/raven/raven.3.9.1.js\"></script>\n",
      "<script nonce=\"8349655762160441853\">\n",
      "    window.Raven && window.Raven.config('https://b2fe488e344a47eda53b8d306edec9b7@sentry.flipkart.com/2',{\n",
      "\t\trelease: 'app.9693c6.js',\n",
      "\t\twhitelistUrls: [\n",
      "\t\t\t/flipkart\\.com/,\n",
      "\t\t\t/img1a\\.flixcart\\.com/\n",
      "\t\t],\n",
      "\t\tignoreErrors: [\n",
      "\t\t\t// Random plugins/extensions\n",
      "\t\t\t'top.GLOBALS',\n",
      "\t\t\t// See: http://blog.errorception.com/2012/03/tale-of-unfindable-js-error.html\n",
      "\t\t\t'originalCreateNotification',\n",
      "\t\t\t'canvas.contentDocument',\n",
      "\t\t\t'MyApp_RemoveAllHighlights',\n",
      "\t\t\t'atomicFindClose',\n",
      "\t\t\t// Facebook borked\n",
      "\t\t\t'fb_xd_fragment',\n",
      "\t\t\t// ISP \"optimizing\" proxy - `Cache-Control: no-transform` seems to reduce this. (thanks @acdha)\n",
      "\t\t\t// See http://stackoverflow.com/questions/4113268/how-to-stop-javascript-injection-from-vodafone-proxy\n",
      "\t\t\t'bmi_SafeAddOnload',\n",
      "\t\t\t'EBCallBackMessageReceived'\n",
      "\t\t],\n",
      "\t\tignoreUrls: [\n",
      "\t\t\t// Facebook flakiness\n",
      "\t\t\t/graph\\.facebook\\.com/i,\n",
      "\t\t\t// Facebook blocked\n",
      "\t\t\t/connect\\.facebook\\.net\\/en_US\\/all\\.js/i,\n",
      "\t\t\t// Chrome extensions\n",
      "\t\t\t/extensions\\//i,\n",
      "\t\t\t/^chrome:\\/\\//i\n",
      "]\n",
      "    }).install();\n",
      "</script>\n",
      "<script async=\"\" defer=\"\" nonce=\"8349655762160441853\" src=\"//img1a.flixcart.com/www/linchpin/batman-returns/omni/omni16.js\"></script>\n",
      "<script async=\"\" defer=\"\" nonce=\"8349655762160441853\" src=\"//static.criteo.net/js/ld/ld.js\"></script>\n",
      "</body>\n",
      "</html>\n",
      "\n"
     ]
    }
   ],
   "source": [
    "print(page_soup)"
   ]
  },
  {
   "cell_type": "code",
   "execution_count": 23,
   "metadata": {
    "collapsed": false
   },
   "outputs": [
    {
     "name": "stdout",
     "output_type": "stream",
     "text": [
      "<body>\n",
      "<div id=\"container\"><div data-react-checksum=\"171881324\" data-reactid=\"1\" data-reactroot=\"\"><div class=\"A4KZv8\" data-reactid=\"2\"><div class=\"AFyd3c\" data-reactid=\"3\"><div class=\"_1EA4La\" data-reactid=\"4\"><div class=\"_1-baVo\" data-reactid=\"5\"><img class=\"_2P4x_N\" data-reactid=\"6\" src=\"data:image/svg+xml;base64,PHN2ZyB3aWR0aD0iMjAiIGhlaWdodD0iMjAiIHZpZXdCb3g9IjAgMCAyMCAyMCIgeG1sbnM9Imh0dHA6Ly93d3cudzMub3JnLzIwMDAvc3ZnIj48cGF0aCBkPSJNLTItMmgyNHYyNEgtMnoiIGZpbGw9Im5vbmUiLz48cGF0aCBkPSJNMTAgMjBDNC40OCAyMCAwIDE1LjUyIDAgMTBTNC40OCAwIDEwIDBzMTAgNC40OCAxMCAxMC00LjQ4IDEwLTEwIDEwem0xLTE1SDl2MmgyVjV6bTAgNEg5djZoMlY5eiIgZmlsbD0iIzE2ODJGOCIvPjwvc3ZnPgo=\"/></div><div class=\"JAUzCh\" data-reactid=\"7\"></div></div></div></div><header class=\"CGBNf7\" data-reactid=\"8\"><div class=\"_1tz-RS\" data-reactid=\"9\"><div class=\"_1H5F__\" data-reactid=\"10\"><div class=\"AsXM8z\" data-reactid=\"11\"><ul class=\"_3Ji-EC\" data-reactid=\"12\"><li class=\"_2sYLhZ\" data-reactid=\"13\"><a class=\"_2k0gmP\" data-reactid=\"14\" href=\"https://seller.flipkart.com/?utm_source=flipkart&amp;utm_medium=website&amp;utm_campaign=sellbutton\">Sell on Flipkart</a></li><li class=\"_2sYLhZ\" data-reactid=\"15\"><a class=\"_2k0gmP\" data-reactid=\"16\" href=\"http://ads.flipkart.com/?otracker=ch_vn_advertise_header\">Advertise</a></li><li class=\"_2sYLhZ\" data-reactid=\"17\"><a class=\"_2k0gmP\" data-reactid=\"18\" href=\"/buy-gift-voucher?otracker=ch_vn_gift-voucher\">Gift Card</a></li><li class=\"_2sYLhZ\" data-reactid=\"19\"><a class=\"_2k0gmP\" data-reactid=\"20\" href=\"/mobile-apps?otracker=ch_vn_mobile_apps\">Download App</a></li><li class=\"_2sYLhZ\" data-reactid=\"21\"><a class=\"_2k0gmP\" data-reactid=\"22\" href=\"/helpcentre\">24x7 Customer Care</a></li><li class=\"_2sYLhZ\" data-reactid=\"23\"><a class=\"_2k0gmP\" data-reactid=\"24\" href=\"/account/orders\">Track Order</a></li><li class=\"_2sYLhZ\" data-reactid=\"25\"><div class=\"_3caHOy\" data-reactid=\"26\"><a data-reactid=\"27\" href=\"/notifications?otracker=Notifications_view_all\"><div class=\"_3ZgaWY\" data-reactid=\"28\"><svg class=\"_10wpBK\" data-reactid=\"29\" height=\"20px\" width=\"16px\" xmlns=\"http://www.w3.org/2000/svg\"><path d=\"M8.037 17.546c1.487 0 2.417-.93 2.417-2.417H5.62c0 1.486.93 2.415 2.417 2.415m5.315-6.463v-2.97h-.005c-.044-3.266-1.67-5.46-4.337-5.98v-.81C9.01.622 8.436.05 7.735.05 7.033.05 6.46.624 6.46 1.325v.808c-2.667.52-4.294 2.716-4.338 5.98h-.005v2.972l-1.843 1.42v1.376h14.92v-1.375l-1.842-1.42z\" data-reactid=\"30\"></path></svg></div></a></div></li><li class=\"_2sYLhZ\" data-reactid=\"31\"><a class=\"_2k0gmP\" data-reactid=\"32\" href=\"/account/login?signup=true\">Signup</a></li><li class=\"_2sYLhZ\" data-reactid=\"33\"><a class=\"_2k0gmP\" data-reactid=\"34\" href=\"/account/login?ret=/\">Log In</a></li></ul></div></div><div class=\"Y5-ZPI\" data-reactid=\"35\"><div class=\"AsXM8z\" data-reactid=\"36\"><div class=\"row\" data-reactid=\"37\"><div class=\"_2OJxl5\" data-reactid=\"38\"><a data-reactid=\"39\" href=\"/\"><img alt=\"Flipkart\" data-reactid=\"40\" src=\"//img1a.flixcart.com/www/linchpin/fk-cp-zion/img/fk-logo_9fddff.png\" title=\"Flipkart\" width=\"149\"/></a></div><div class=\"_1NLCcM\" data-reactid=\"41\"><form action=\"/search\" class=\"_1WMLwI header-form-search\" data-reactid=\"42\" method=\"GET\"><div class=\"row\" data-reactid=\"43\"><div class=\"col-11-12\" data-reactid=\"44\"><div class=\"O8ZS_U\" data-reactid=\"45\"><input autocomplete=\"off\" class=\"LM6RPg\" data-reactid=\"46\" name=\"q\" placeholder=\"Search for Products, Brands and More\" title=\"Search for Products, Brands and More\" type=\"text\" value=\"\"/></div></div><div class=\"col-1-12\" data-reactid=\"47\"><button class=\"vh79eN\" data-reactid=\"48\" type=\"submit\"><svg class=\"_2BhAHa\" data-reactid=\"49\" height=\"15px\" width=\"15px\" xmlns=\"http://www.w3.org/2000/svg\"><path d=\"M11.618 9.897l4.224 4.212c.092.09.1.23.02.312l-1.464 1.46c-.08.08-.222.072-.314-.02L9.868 11.66M6.486 10.9c-2.42 0-4.38-1.955-4.38-4.367 0-2.413 1.96-4.37 4.38-4.37s4.38 1.957 4.38 4.37c0 2.412-1.96 4.368-4.38 4.368m0-10.834C2.904.066 0 2.96 0 6.533 0 10.105 2.904 13 6.486 13s6.487-2.895 6.487-6.467c0-3.572-2.905-6.467-6.487-6.467\" data-reactid=\"50\"></path></svg></button></div><input data-reactid=\"51\" name=\"otracker\" type=\"hidden\" value=\"start\"/><input data-reactid=\"52\" name=\"as-show\" type=\"hidden\" value=\"off\"/><input data-reactid=\"53\" name=\"as\" type=\"hidden\" value=\"off\"/></div><ul class=\"col-11-12 _1PBbw8\" data-reactid=\"54\"></ul></form></div><a class=\"_3NFO0d\" data-reactid=\"55\" href=\"/viewcart?otracker=Cart_Icon_Click\"><svg class=\"_20j1Vs\" data-reactid=\"56\" height=\"16\" viewbox=\"0 0 16 16\" width=\"16\" xmlns=\"http://www.w3.org/2000/svg\"><path class=\"\" d=\"M15.32 2.405H4.887C3 2.405 2.46.805 2.46.805L2.257.21C2.208.085 2.083 0 1.946 0H.336C.1 0-.064.24.024.46l.644 1.945L3.11 9.767c.047.137.175.23.32.23h8.418l-.493 1.958H3.768l.002.003c-.017 0-.033-.003-.05-.003-1.06 0-1.92.86-1.92 1.92s.86 1.92 1.92 1.92c.99 0 1.805-.75 1.91-1.712l5.55.076c.12.922.91 1.636 1.867 1.636 1.04 0 1.885-.844 1.885-1.885 0-.866-.584-1.593-1.38-1.814l2.423-8.832c.12-.433-.206-.86-.655-.86\" data-reactid=\"57\" fill=\"#fff\"></path></svg><!-- react-text: 58 -->CART<!-- /react-text --><span class=\"_2bVfmg\" data-reactid=\"59\">0</span></a></div></div></div></div><div class=\"zi6sUf\" data-reactid=\"60\"><div class=\"_3Ed3Ub\" data-reactid=\"61\"><ul class=\"_114Zhd\" data-reactid=\"62\"></ul></div></div><!-- react-empty: 63 --></header><div class=\"_3TvN5e\" data-reactid=\"64\"><div class=\"_2HP3SB\" data-reactid=\"65\"><div class=\"_3i3iiP\" data-reactid=\"66\"><div class=\"_1VV5Cf\" data-reactid=\"67\"><div class=\"_1SFos- _14bj8B\" data-reactid=\"68\" style=\"transform:scaleX(0);\"></div></div></div></div></div><footer class=\"HJlsB9\" data-reactid=\"69\"><div class=\"TW4owM\" data-reactid=\"70\"><div class=\"row\" data-reactid=\"71\"><div class=\"col gu12 _2-C188\" data-reactid=\"72\"><div class=\"_2w8bgn\" data-reactid=\"73\"><p></p><h2>Buy mobile phones online at best prices in India</h2><div><br/></div><div>Everyone is in a constant hunt for the mobile phone, or more correctly called the smartphone, that will fit all his/her requirements and would assure a guarantee of good performance. With a plethora of mobile phone brands foraying on a regular basis into the market, it’s a tough a call for the consumer to pick the right one. It’s always a wiser idea to buy mobile phones online, as the internet is the best place you can invest your time into, in order to conduct your share of investigation about the right smartphone by analysing mobile phone online reviews. </div><div><br/></div><h2>Best mobile brands to look out for</h2><div><br/></div><div>There have been some brands in the market which have stayed for the longest time and have earned the trust of consumers. These brands offer you a minimum guarantee regarding the performance and longevity of the smartphone. But again, it depends on your requirements about which brand you must choose. For instance, the <a href=\"https://www.flipkart.com/mobiles/mi~brand/pr?sid=tyy,4io\">Xiaomi phones</a> are quite a sought-after brand these days. They are high on demand for their battery life and performance. Xiaomi phones are perfect Android-based budget phones and they are pretty reasonably priced for their features. On the other hand, if you are looking for a high-end technology mobile with ultimate security, sophisticated software and great design, the <a href=\"https://www.flipkart.com/mobiles/apple~brand/pr?sid=tyy,4io\">iPhone</a> by Apple would be the first and last choice. Although these are priced higher than mobile phones from other brands, the iOS software based on which iPhone operates is unbeatable.If you are a fan of great design and style along with feature-richness in your smartphone, <a href=\"https://www.flipkart.com/mobiles/samsung~brand/pr?sid=tyy,4io\">Samsung mobiles</a> are the ones to own.Samsung keeps refreshing their phone design and style, and you are sure to find a phone that fits your style.Lenovo and Motorola are two other brands that have become quite popular. Consumers can get budget phones from these brands as well as expensive phones.</div><div><a href=\"https://www.flipkart.com/mobiles/lenovo~brand/pr?sid=tyy,4io\">Lenovo mobiles</a> have caught the eye of consumers with their great display, battery power and other features. Motorola has always been a safe choice and provides the guarantee that a good, feature rich smartphone should give.</div><div><br/></div><h2>How to buy a good mobile phone online?</h2><div><br/></div><div>When one plans to buy a mobile phone online, It’s advised that she/he considers factors like the network type, screen size, battery capacity, internal memory storage, sim type, the resolution of the front and back camera lens, what operating system and the specific version of operating system is used, how many cores are present in the processor, resolution of the screen and the like. These factors are very important to be considered as filtering out these will tell you exactly which smartphone to buy. If you are a light user you can easily go for a dual core mobile phone. If you are a gamer or someone who used his smartphone for a lot of high-speed activities, you must go for a hexa-core or octa-core phone. Similarly, all other factors have to be considered, or else, you might end up buying a phone that does not fit your requirements, or in another case one that is too sophisticated for your requirements.</div><div><span><br/></span></div><h2><span>Other popular smartphone brands</span><br/></h2><div><br/></div><div>Some other top brands in mobiles that will suit your requirements and style would be from <a href=\"https://www.flipkart.com/mobiles/vivo~brand/pr?sid=tyy,4io\">Vivo mobiles</a>,Panasonic mobiles, Asus mobiles,LG mobiles and the like. Lately popular phone <a href=\"https://www.flipkart.com/mobiles/lyf~brand/pr?sid=tyy,4io\">Lyf</a> has been purchased by lakhs of consumers for its highlight data providing feature along with other features..HTC is another sought-after brand which provides expensive as well as budget phones with awesome features. They provide some great phones like HTC Desire 620G, HTC Desire 626  and more. Windows based Nokia and  Micromax are brands that give you most of the necessary features at a pretty low price.</div><div><br/></div><div><a href=\"https://www.flipkart.com/mobiles/oppo~brand/pr?sid=tyy,4io\">Oppo mobiles</a> are widely purchased for their top notch hardware specifications, awesome display and amazing camera.Oppo f1 plus, Oppo A57,Oppo f1S are some of them that you don’t want to miss. Sony has always stood out against the competition. Their front and rear glass panels set a trend with their IP68 waterproof feature being a highlight.</div><div><br/></div><h2>What’s trending in mobile phones?</h2><div><br/></div><div>Stay plugged-into what’s happening latest in the smartphone world by getting regularly updated online. All best brands try experimenting with their products with varying features and specifications. One phone you need to look out for is the <a href=\"https://www.flipkart.com/mobiles/~redmi-note-4/pr?sid=tyy%2C4io\">Redmi Note 4</a> which gives you a great hand feel with its curvy design, 4GB RAM and awesome camera specs. The latest dual sim phone Lenovo K6 Power has a 3GB RAM and 32GB internal storage is a budget phone with striking features.</div><div><br/></div><div>Samsung Galaxy On Nxt is one of the sought-after mobile phones which has 1.6 GHz octa-core processor with 3GB RAM.With high resolution camera, this is definitely one to look out for. With advanced digital sound technology, Full HD display and large battery one that is selling like hot cakes is the Lenovo Vibe K5 Note. Yet another budget phone with great features has been launched by Mi, called the Redmi 3S.Much lighter and thinner than its predecessor Redmi 2, this piece of technology has a large battery, great design and great processor. Other phones that have to be unboxed and discovered for yourself are the iPhone7, Google Pixel, Samsung Galaxy On 8, Galaxy J5-6,Moto M and the like.</div><div><br/></div><h2>Exclusive mobiles on Flipkart</h2><div><br/></div><div>We wish to serve you  the best, first. Some of the best mobiles online have been brought to you by us. The Android-based Samsung Galaxy On8 is very reasonably priced for its features.With the Samsung Touch Wiz Interface and brightness sensor, this phone is a good investment.</div><p><br/></p><p>The Rose Gold coloured Oppo f1S is another piece of technology that we give you at one of the best prices available. Lyf Wind 3 from Jio is also an exclusive product with the benefit of the Jio 4G packed with this phone. </p><strong>EXCLUSIVE LAUNCHES : <a href=\"http://www.flipkart.com/moto-g5-plus-intrigue\">Moto G5  Plus</a>, <a href=\"https://www.flipkart.com/mobiles/~samsung-galaxy-s8-and-samsung-galaxy-s8-plus/pr?sid=tyy,4io\">Samsung S8</a></strong><p></p><div><br/></div><div><br/></div><p></p><p></p></div></div></div><div data-reactid=\"74\"><div class=\"row\" data-reactid=\"75\"><div class=\"_3qd5C5 col col-4-12\" data-reactid=\"76\"><div class=\"mae7t_\" data-reactid=\"77\"><div class=\"_18wTSA\" data-reactid=\"78\">HELP</div><a class=\"_287FRX\" data-reactid=\"79\" href=\"/s/help/payments?otracker=undefined_footer_navlinks\">Payments</a><a class=\"_287FRX\" data-reactid=\"80\" href=\"/help/savedcard_how?otracker=undefined_footer_navlinks\">Saved Cards</a><a class=\"_287FRX\" data-reactid=\"81\" href=\"/s/help/shipping?otracker=undefined_footer_navlinks\">Shipping</a><a class=\"_287FRX\" data-reactid=\"82\" href=\"/s/help/cancellation-returns?otracker=undefined_footer_navlinks\">Cancellation &amp; Returns</a><a class=\"_287FRX\" data-reactid=\"83\" href=\"/s/help?otracker=undefined_footer_navlinks\">FAQ</a><a class=\"_287FRX\" data-reactid=\"84\" href=\"https://seller.flipkart.com/fiv?otracker=undefined_footer_navlinks\">Report Infringement</a></div></div><div class=\"_3qd5C5 col col-4-12\" data-reactid=\"85\"><div class=\"NIKvaI\" data-reactid=\"86\"><div class=\"_18wTSA\" data-reactid=\"87\">FLIPKART</div><a class=\"_287FRX\" data-reactid=\"88\" href=\"/s/contact?otracker=undefined_footer_navlinks\">Contact Us</a><a class=\"_287FRX\" data-reactid=\"89\" href=\"/about-us?otracker=undefined_footer_navlinks\">About Us</a><a class=\"_287FRX\" data-reactid=\"90\" href=\"/ol?link=http%3A%2F%2Fwww.flipkartcareers.com%2F&amp;otracker=undefined_footer_navlinks\">Careers</a><a class=\"_287FRX\" data-reactid=\"91\" href=\"http://stories.flipkart.com/?otracker=undefined_footer_navlinks\">Flipkart Stories</a><a class=\"_287FRX\" data-reactid=\"92\" href=\"/s/press?otracker=undefined_footer_navlinks\">Press</a><a class=\"_287FRX\" data-reactid=\"93\" href=\"https://seller.flipkart.com/?utm_source=flipkart&amp;utm_medium=website&amp;utm_campaign=sellbutton\">Sell on Flipkart</a></div></div><div class=\"_3qd5C5 col col-4-12\" data-reactid=\"94\"><div class=\"wC1W-g\" data-reactid=\"95\"><div class=\"_18wTSA\" data-reactid=\"96\">MISC</div><a class=\"_287FRX\" data-reactid=\"97\" href=\"https://www.flipkart.com?otracker=undefined_footer_navlinks\">Online Shopping</a><a class=\"_287FRX\" data-reactid=\"98\" href=\"https://affiliate.flipkart.com?otracker=undefined_footer_navlinks\">Affiliate Program</a><a class=\"_287FRX\" data-reactid=\"99\" href=\"/buy-gift-voucher?otracker=undefined_footer_navlinks\">Gift Card</a><a class=\"_287FRX\" data-reactid=\"100\" href=\"/flipkart-first?otracker=undefined_footer_navlinks\">Flipkart First Subscription</a><a class=\"_287FRX\" data-reactid=\"101\" href=\"/mobile-apps?otracker=undefined_footer_navlinks\"><div class=\"AX4izK\" data-reactid=\"102\"></div></a></div></div></div><div class=\"row\" data-reactid=\"103\"><div class=\"col gu12\" data-reactid=\"104\"><div class=\"_2pd5wH\" data-reactid=\"105\"><div class=\"row\" data-reactid=\"106\"><div class=\"_12Pt90 col col-4-12\" data-reactid=\"107\"><div data-reactid=\"108\"><i class=\"_19jTLO _2FH1aM\" data-reactid=\"109\"></i><div class=\"gLnKnX\" data-reactid=\"110\"><div data-reactid=\"111\">Track your</div><!-- react-text: 112 --> <!-- /react-text --><div data-reactid=\"113\">order</div></div></div></div><div class=\"_3lrtQ_ col col-4-12\" data-reactid=\"114\"><i class=\"fC1vcP _2FH1aM\" data-reactid=\"115\"></i><div class=\"gLnKnX\" data-reactid=\"116\"><div data-reactid=\"117\">Free &amp; easy</div><div data-reactid=\"118\"> returns</div></div></div><div class=\"_2NvQ_q col col-4-12\" data-reactid=\"119\"><i class=\"_2XOI3b _2FH1aM\" data-reactid=\"120\"></i><div class=\"gLnKnX\" data-reactid=\"121\"><div data-reactid=\"122\">Online</div><div data-reactid=\"123\"> cancellations</div></div></div></div></div></div></div><div class=\"row\" data-reactid=\"124\"><div class=\"_1DXv5h col col-8-12\" data-reactid=\"125\"><span data-reactid=\"126\"><span class=\"policies-title footertitle\" data-reactid=\"127\">Policies:</span><a class=\"_3llQHu\" data-reactid=\"128\" href=\"/returnpolicy\">Returns Policy</a><a class=\"_3llQHu\" data-reactid=\"129\" href=\"/s/terms\">Terms of use</a><a class=\"_3llQHu\" data-reactid=\"130\" href=\"/s/paymentsecurity\">Security</a><a class=\"_3llQHu\" data-reactid=\"131\" href=\"/s/privacypolicy\">Privacy</a><a class=\"_3llQHu\" data-reactid=\"132\" href=\"https://seller.flipkart.com/fiv\">Infringement</a></span><span class=\"_2tFDQF\" data-reactid=\"133\"><!-- react-text: 134 -->© 2007-<!-- /react-text --><!-- react-text: 135 -->2017<!-- /react-text --><!-- react-text: 136 --> <!-- /react-text --><span data-reactid=\"137\">Flipkart.com.</span></span></div><div class=\"_1DXv5h _2uGUAL col col-4-12\" data-reactid=\"138\"><span data-reactid=\"139\">Keep in touch</span><a class=\"_3BNkWJ _2EqWRh\" data-reactid=\"140\" href=\"/ol?link=http://www.facebook.com/flipkart\" rel=\"noopener noreferrer\" target=\"_blank\"></a><a class=\"_1gaRkv _2EqWRh\" data-reactid=\"141\" href=\"/ol?link=http://www.twitter.com/flipkart\" rel=\"noopener noreferrer\" target=\"_blank\"></a><a class=\"_1dlzPn _2EqWRh\" data-reactid=\"142\" href=\"/ol?link=https://plus.google.com/109591199284807005836/posts\" rel=\"noopener noreferrer\" target=\"_blank\"></a><a class=\"_2GU83R _2EqWRh\" data-reactid=\"143\" href=\"/ol?link=http://www.youtube.com/flipkart\" rel=\"noopener noreferrer\" target=\"_blank\"></a></div></div></div><div class=\"row\" data-reactid=\"144\"><div class=\"col gu12\" data-reactid=\"145\"><div class=\"PPB6NR\" data-reactid=\"146\"><h2 class=\"_1fwBsP\" data-reactid=\"147\">PAYMENT METHOD</h2><div class=\"qrCdDp\" data-reactid=\"148\"></div></div></div></div><div class=\"_3niCAn\" data-reactid=\"149\"><div class=\"row\" data-reactid=\"150\"><div class=\"col col-6-12\" data-reactid=\"151\"><div class=\"_-5zFHs\" data-reactid=\"152\"><div class=\"_1NCIA7\" data-reactid=\"153\"><span data-reactid=\"154\"><span data-reactid=\"155\">Mail Us:</span></span></div><address class=\"_3DPJqC\" data-reactid=\"156\"><div class=\"_3Lv0nZ\" data-reactid=\"157\"><div class=\"_3aS5mM _3DPJqC\" data-reactid=\"158\"><p>Flipkart Internet Private Limited, </p>\n",
      "<p> Ozone Manay Tech Park, </p>\n",
      "<p> #56/18 &amp; 55/09, 7th Floor, </p>\n",
      "<p> Garvebhavipalya, Hosur Road, </p>\n",
      "<p> Bangalore - 560068, </p>\n",
      "<p> Karnataka, India.</p>\n",
      "</div></div></address></div></div><div class=\"col col-6-12\" data-reactid=\"159\"><div class=\"_1Qdplc\" data-reactid=\"160\"><div class=\"_1NCIA7\" data-reactid=\"161\"><span data-reactid=\"162\"><span data-reactid=\"163\">Registered Office Address:</span></span></div><address class=\"_3DPJqC\" data-reactid=\"164\"><div class=\"_3Lv0nZ\" data-reactid=\"165\"><div class=\"_3aS5mM _3DPJqC\" data-reactid=\"166\"><p>Flipkart Internet Private Limited, </p>\n",
      "<p> Vaishnavi Summit, Ground Floor, 7th Main, </p>\n",
      "<p> 80 Feet Road, 3rd Block, </p>\n",
      "<p> Koramangala, </p>\n",
      "<p> Bengaluru - 560034 </p>\n",
      "<p> India </p>\n",
      "<p> CIN : U51109KA2012PTC066107 </p>\n",
      "<p> Telephone: <a href=\"tel:18002089898\">1800 208 9898</a></p>\n",
      "</div></div></address></div></div></div></div></div></footer><div class=\"_16c-eX\" data-reactid=\"167\"><div class=\"kxUxS5\" data-reactid=\"168\"><svg class=\"j43Uvy\" data-reactid=\"169\" height=\"27\" viewbox=\"0 0 16 27\" width=\"16\" xmlns=\"http://www.w3.org/2000/svg\"><path class=\"_14b0BE\" d=\"M16 23.207L6.11 13.161 16 3.093 12.955 0 0 13.161l12.955 13.161z\" data-reactid=\"170\" fill=\"#fff\"></path></svg><span data-reactid=\"171\">Back to top</span></div></div></div></div>\n",
      "<script nonce=\"1776636443329216331\" type=\"application/ld+json\">\n",
      "{\n",
      "    \"@context\": \"http://schema.org\",\n",
      "    \"@type\": \"WebSite\",\n",
      "    \"url\": \"http://www.flipkart.com/\",\n",
      "    \"potentialAction\": [{\n",
      "        \"@type\": \"SearchAction\",\n",
      "        \"target\": \"http://www.flipkart.com/search?q={search_term_string}\",\n",
      "        \"query-input\": \"required name=search_term_string\"\n",
      "        },{\n",
      "        \"@type\": \"SearchAction\",\n",
      "        \"target\": \"android-app://com.flipkart.android/flipkart/de_sq_seg_-search.flipkart.com-_{search_term_string}\",\n",
      "        \"query-input\": \"required name=search_term_string\"\n",
      "    }]\n",
      "}\n",
      "</script>\n",
      "<script id=\"is_script\" nonce=\"1776636443329216331\">\n",
      "\twindow.__INITIAL_STATE__ = {\"abExperiments\":{\"goToCart\":true,\"newTab\":false},\"navigation\":{\"asyncStatus\":\"INIT\",\"navData\":{}},\"quicklinks\":{\"asyncStatus\":\"INIT\",\"data\":[]},\"layouts\":{\"asyncStatus\":\"INIT\"},\"pageData\":{\"__page\":\"\"},\"userState\":{\"cart\":{\"items\":[]},\"asyncStatus\":\"SUCCESS\",\"abResponse\":{\"abDataId\":-1987321281,\"abExperiments\":[{\"abId\":\"066f8de8\",\"appId\":\"sherlock\",\"expId\":\"Related_Search_BucketF_17Apr\",\"layerName\":\"sherlock-matching\",\"metadata\":{\"bucket[]\":\"rs_bucket_f\"}},{\"abId\":\"1535ef53\",\"appId\":\"TNS\",\"expId\":\"mlModelV1Al2\",\"layerName\":\"rto_cod\",\"metadata\":{}},{\"abId\":\"4867b227\",\"appId\":\"zulu\",\"expId\":\"default_size_chart\",\"layerName\":\"Zulu2\",\"metadata\":{\"product_base_info\":\"product_base_info\",\"product_attributes_big\":\"product_attributes_big_size_chart\"}},{\"abId\":\"9689fcfd\",\"appId\":\"fse\",\"expId\":\"RANGE_SLA\",\"layerName\":\"promise\",\"metadata\":{\"RANGE_SLA\":true}},{\"abId\":\"a19d4c8c\",\"appId\":\"DiscJockey\",\"expId\":\"Attach AML Apr13\",\"layerName\":\"Product Page\",\"metadata\":{\"Header.X-Use-Learnt-Weights\":true}},{\"abId\":\"bbda05d3\",\"appId\":\"sherlock\",\"expId\":\"PricePersonalization20Apr\",\"layerName\":\"search-ranking\",\"metadata\":{\"bucket[]\":\"ppstorepath\"}},{\"abId\":\"d8492f60\",\"appId\":\"Desktop\",\"expId\":\"Cart Test\",\"layerName\":\"Desktop E2E Environment\",\"metadata\":{\"goToCart\":true}},{\"abId\":\"e113f4f9\",\"appId\":\"Desktop\",\"expId\":\"New Tab Control\",\"layerName\":\"Desktop - Product Page\",\"metadata\":{\"newTab\":false}},{\"abId\":\"f07a13ae\",\"appId\":\"Mapi\",\"expId\":\"Low ASP d2r no navigation\",\"layerName\":\"Transact\",\"metadata\":{\"enableFAFreeDelivery\":false,\"showD2RnavigationBar\":\"NO_NAVIGATION_BAR\"}},{\"abId\":\"fbb9009f\",\"appId\":\"Checkout\",\"expId\":\"Exp_ais_control\",\"layerName\":\"Paymets\",\"metadata\":{}}]},\"location\":{\"communityStore\":null,\"selectedLocation\":null,\"userAddressResponse\":null},\"accountId\":null,\"firstName\":null,\"flipkartFirstUser\":false,\"isLoggedIn\":false,\"lastName\":null,\"ts\":0,\"pincode\":null,\"userEmail\":null},\"inAppNotifications\":{\"isFetching\":false,\"notifications\":[],\"asyncStatus\":\"INIT\"},\"autosuggest\":{\"query\":null,\"words\":{},\"asyncStatus\":\"INIT\"},\"productInfo\":{\"ttl\":{}},\"offerInfo\":{\"items\":[]},\"seoMeta\":{\"isFetching\":false,\"metadata\":{\"seo\":{\"alexaVerifyId\":false,\"content\":\"<p></p><h2>Buy mobile phones online at best prices in India</h2><div><br/></div><div>Everyone is in a constant hunt for the mobile phone, or more correctly called the smartphone, that will fit all his/her requirements and would assure a guarantee of good performance. With a plethora of mobile phone brands foraying on a regular basis into the market, it&#8217;s a tough a call for the consumer to pick the right one. It&#8217;s always a wiser idea to buy mobile phones online, as the internet is the best place you can invest your time into, in order to conduct your share of investigation about the right smartphone by analysing mobile phone online reviews.&#160;</div><div><br/></div><h2>Best mobile brands to look out for</h2><div><br/></div><div>There have been some brands in the market which have stayed for the longest time and have earned the trust of consumers. These brands offer you a minimum guarantee regarding the performance and longevity of the smartphone. But again, it depends on your requirements about which brand you must choose. For instance, the <a href=\\\"https://www.flipkart.com/mobiles/mi~brand/pr?sid=tyy,4io\\\">Xiaomi phones</a> are quite a sought-after brand these days. They are high on demand for their battery life and performance. Xiaomi phones are perfect Android-based budget phones and they are pretty reasonably priced for their features. On the other hand, if you are looking for a high-end technology mobile with ultimate security, sophisticated software and great design, the <a href=\\\"https://www.flipkart.com/mobiles/apple~brand/pr?sid=tyy,4io\\\">iPhone</a> by Apple would be the first and last choice. Although these are priced higher than mobile phones from other brands, the iOS software based on which iPhone operates is unbeatable.If you are a fan of great design and style along with feature-richness in your smartphone, <a href=\\\"https://www.flipkart.com/mobiles/samsung~brand/pr?sid=tyy,4io\\\">Samsung mobiles</a> are the ones to own.Samsung keeps refreshing their phone design and style, and you are sure to find a phone that fits your style.Lenovo and Motorola are two other brands that have become quite popular. Consumers can get budget phones from these brands as well as expensive phones.</div><div><a href=\\\"https://www.flipkart.com/mobiles/lenovo~brand/pr?sid=tyy,4io\\\">Lenovo mobiles</a> have caught the eye of consumers with their great display, battery power and other features. Motorola has always been a safe choice and provides the guarantee that a good, feature rich smartphone should give.</div><div><br/></div><h2>How to buy a good mobile phone online?</h2><div><br/></div><div>When one plans to buy a mobile phone online, It&#8217;s advised that she/he considers factors like the network type, screen size, battery capacity, internal memory storage, sim type, the resolution of the front and back camera lens, what operating system and the specific version of operating system is used, how many cores are present in the processor, resolution of the screen and the like. These factors are very important to be considered as filtering out these will tell you exactly which smartphone to buy. If you are a light user you can easily go for a dual core mobile phone. If you are a gamer or someone who used his smartphone for a lot of high-speed activities, you must go for a hexa-core or octa-core phone. Similarly, all other factors have to be considered, or else, you might end up buying a phone that does not fit your requirements, or in another case one that is too sophisticated for your requirements.</div><div><span><br/></span></div><h2><span>Other popular smartphone brands</span><br/></h2><div><br/></div><div>Some other top brands in mobiles that will suit your requirements and style would be from <a href=\\\"https://www.flipkart.com/mobiles/vivo~brand/pr?sid=tyy,4io\\\">Vivo mobiles</a>,Panasonic mobiles, Asus mobiles,LG mobiles and the like. Lately popular phone <a href=\\\"https://www.flipkart.com/mobiles/lyf~brand/pr?sid=tyy,4io\\\">Lyf</a> has been purchased by lakhs of consumers for its highlight data providing feature along with other features..HTC is another sought-after brand which provides expensive as well as budget phones with awesome features. They provide some great phones like HTC Desire 620G, HTC Desire 626  and more. Windows based Nokia and  Micromax are brands that give you most of the necessary features at a pretty low price.</div><div><br/></div><div><a href=\\\"https://www.flipkart.com/mobiles/oppo~brand/pr?sid=tyy,4io\\\">Oppo mobiles</a> are widely purchased for their top notch hardware specifications, awesome display and amazing camera.Oppo f1 plus, Oppo A57,Oppo f1S are some of them that you don&#8217;t want to miss. Sony has always stood out against the competition. Their front and rear glass panels set a trend with their IP68 waterproof feature being a highlight.</div><div><br/></div><h2>What&#8217;s trending in mobile phones?</h2><div><br/></div><div>Stay plugged-into what&#8217;s happening latest in the smartphone world by getting regularly updated online. All best brands try experimenting with their products with varying features and specifications. One phone you need to look out for is the <a href=\\\"https://www.flipkart.com/mobiles/~redmi-note-4/pr?sid=tyy%2C4io\\\">Redmi Note 4</a> which gives you a great hand feel with its curvy design, 4GB RAM and awesome camera specs. The latest dual sim phone Lenovo K6 Power has a 3GB RAM and 32GB internal storage is a budget phone with striking features.</div><div><br/></div><div>Samsung Galaxy On Nxt is one of the sought-after mobile phones which has 1.6 GHz octa-core processor with 3GB RAM.With high resolution camera, this is definitely one to look out for. With advanced digital sound technology, Full HD display and large battery one that is selling like hot cakes is the Lenovo Vibe K5 Note. Yet another budget phone with great features has been launched by Mi, called the Redmi 3S.Much lighter and thinner than its predecessor Redmi 2, this piece of technology has a large battery, great design and great processor. Other phones that have to be unboxed and discovered for yourself are the iPhone7, Google Pixel, Samsung Galaxy On 8, Galaxy J5-6,Moto M and the like.</div><div><br/></div><h2>Exclusive mobiles on Flipkart</h2><div><br/></div><div>We wish to serve you  the best, first. Some of the best mobiles online have been brought to you by us. The Android-based Samsung Galaxy On8 is very reasonably priced for its features.With the Samsung Touch Wiz Interface and brightness sensor, this phone is a good investment.</div><p><br/></p><p>The Rose Gold coloured Oppo f1S is another piece of technology that we give you at one of the best prices available. Lyf Wind 3 from Jio is also an exclusive product with the benefit of the Jio 4G packed with this phone.&#160;</p><strong>EXCLUSIVE LAUNCHES : <a href=\\\"http://www.flipkart.com/moto-g5-plus-intrigue\\\">Moto G5 &#160;Plus</a>, <a href=\\\"https://www.flipkart.com/mobiles/~samsung-galaxy-s8-and-samsung-galaxy-s8-plus/pr?sid=tyy,4io\\\">Samsung S8</a></strong><p></p><div><br/></div><div><br/></div><p></p><p></p>\",\"description\":\"Buy Mobiles Online at Best Price in India - Get all new mobiles and smartphones online from best brands like Samsung, Apple, Mi, Motorola & more. Compare mobiles and make your choice from latest mobile phones.\",\"googleSiteVerification\":false,\"headerContent\":\"<p>There is a growing trend by which consumers tend to replace old mobile phones with new ones, every time a good one is launched. Certain brands like <a href=\\\"https://www.flipkart.com/mobiles/samsung~brand/pr?sid=tyy,4io\\\">Samsung</a>, Google and Apple are constantly under watch by smartphone users to buy their new mobile phone online whenever they are released owing to the trust consumers have on them. <a href=\\\"https://www.flipkart.com/mobiles/lenovo~brand/pr?sid=tyy,4io\\\">Lenovo</a> is another veteran mobile phone manufacturer that has been standing the test of time and excelling each time.The comparatively new brands like <a href=\\\"https://www.flipkart.com/mobiles/mi~brand/pr?sid=tyy,4io\\\">Xiaomi</a> and <a href=\\\"https://www.flipkart.com/mobiles/motorola~brand/pr?sid=tyy,4io\\\">Motorola</a> are also giving the veterans a good fight. The number of processor cores, the internal memory storage, the resolution of the phone are factors one must focus on before buying a smartphone online.</p>\",\"keywords\":\"Mobiles, Mobile Phones, Buy Mobile Phones Online, Mobiles India, Smartphones\",\"noIndexSeo\":false,\"ogTitle\":\"Mobiles | Buy Mobiles Online at Best Prices in India | Shop Online for Smartphones at Flipkart.com\",\"title\":\"Mobiles | Buy Mobiles Online at Best Prices in India | Shop Online for Smartphones at Flipkart.com\"},\"links\":null},\"asyncStatus\":\"SUCCESS\"},\"config\":{\"isFetching\":false,\"data\":{\"globalConfig\":{\"deferReco\":false,\"degradeImage\":false,\"disableQuicklinks\":false,\"disableFDPTracking\":false,\"disableRecentlyViewed\":false,\"disableReco\":false,\"disableReview\":false,\"disableSearch\":false,\"disableSearchRetry\":false,\"disableSeo\":false,\"enableBbdChanges\":false,\"offerZoneMorePosition\":-1,\"searchSummaryBatches\":[10,10,20,20],\"enableProductPageServerRendering\":true,\"enableHomePageServerRendering\":true,\"enableStreaming\":true,\"saleAddToCartBuyNowEnableTimeout\":true,\"saleAddToCartBuyNowTimeout\":[10,15],\"saleAddToCartBuyNowLIDBlacklist\":[],\"saleAddToCartBuyNowDisable\":false,\"enableInlineFilters\":true},\"cobrandedExperience\":{\"yahoo\":{\"logo\":\"https://img1a.flixcart.com/www/promos/new/20161121-160909-yahoo-store.png\",\"class\":\"yahoo-store\",\"store-link\":\"https://in.yahoo.com/\",\"store-name\":\"Go Back to Yahoo.in\",\"tracking-name\":\"yahoocobr\",\"pixel-tracking-url\":\"https://sp.analytics.yahoo.com/spp.pl?a=10000&.yp=10021645\",\"search-pixel-url\":\"https://bat.bing.com/action/0?ti=4003414&Ver=2\"},\"airtel\":{\"logo\":\"http://img5a.flixcart.com/www/promos/new/20150618-144245-header-airtel-white.png\",\"class\":\"airtel-store\",\"store-link\":\"www.airtel.in\",\"store-name\":\"Go Back to Airtel.in\",\"tracking-name\":\"airtel-cobrand-store\"},\"offers\":{\"logo\":\"https://img1a.flixcart.com/www/promos/new/20150618-145909-header-smartbuy-white.png\",\"class\":\"hdfc-store \",\"store-link\":\"www.smartbuy.hdfcbank.com\",\"store-name\":\"Go Back to Smart buy\",\"tracking-name\":\"hdfc-cobrand-store\",\"footer\":\"Exclusive store, for HDFC Bank customers!\"},\"bhaskar\":{\"logo\":\"http://img6a.flixcart.com/www/promos/new/20150618-142842-header-logo-bhaskar.png\",\"class\":\"bhasker-store \",\"store-link\":\"www.dainikbhaskar.com\",\"store-name\":\"Go Back to Dainik Bhaskar\",\"tracking-name\":\"dainik-cobrand-store\"},\"itzcash\":{\"logo\":\"https://rukminim1.flixcart.com/www/245/50/promos/09/01/2017/c1c2c887-ba6f-4346-9bac-fd98e208bb03.png?q=90\",\"class\":\"itzcash-store\",\"store-link\":\"http://itzcash.com\",\"store-name\":\"Go Back to Itzcash-store\",\"tracking-name\":\"itzcash-cobrand-store\",\"footer\":\"Exclusive store, for Itz cash store customers!\"},\"indusind\":{\"logo\":\"https://img1a.flixcart.com/www/promos/new/20160620-133321-powered-header-indusindbank-new.png\",\"class\":\"indusind-store\",\"store-link\":\"http://indusind.store.flipkart.com/\",\"store-name\":\"Go back go indsland store\",\"tracking-name\":\"indusind-cobrand-store\",\"footer\":\"Exclusive store for Induslnd Bank customers!\"}}},\"isError\":false,\"isLoaded\":true,\"responseMeta\":{\"params\":null,\"versions\":{\"globalConfig\":\"globalConfig.device.desktop.127\",\"cobrandedExperience\":\"cobrandedExperience.device.desktop.18\"}}},\"misc\":{\"hostname\":\"www.flipkart.com\",\"nonce\":\"1776636443329216331\",\"anchorTagMap\":{\"atlc2\":true,\"atlssmo\":true}},\"searchResults\":{\"asyncStatus\":\"INIT\",\"hasData\":false,\"options\":{},\"newSearch\":true},\"filters\":{\"asyncStatus\":\"INIT\"},\"swatches\":{\"asyncStatus\":\"INIT\",\"productSwatchDetails\":{}},\"productReviews\":{\"asyncStatus\":\"INIT\"},\"ratingsAndReviews\":{\"ratingsData\":{},\"reviewsData\":{\"asyncStatus\":\"INIT\",\"reviewsData\":{},\"activeTab\":0,\"REVIEW_COUNT\":10},\"tabsData\":{}},\"readReviewsPage\":{\"asyncStatus\":\"INIT\"},\"wishlistItemDetails\":{\"asyncStatus\":\"INIT\"},\"modal\":null,\"compareWidgetData\":[],\"comparePageData\":{\"asyncStatus\":\"INIT\",\"showDifference\":false},\"compareBrandData\":{\"asyncStatus\":\"INIT\"},\"compareAddProductData\":{\"asyncStatus\":\"INIT\",\"brandvsproduct\":{},\"brand\":null},\"similarProducts\":{\"asyncStatus\":\"INIT\"},\"productPage\":{\"verifyImeiInfo\":{\"asyncStatus\":\"INIT\"},\"productSimilarReco\":{\"asyncStatus\":\"INIT\"},\"productCrossVerticalReco\":{\"asyncStatus\":\"INIT\"},\"productBrowsingHistoryReco\":{\"asyncStatus\":\"INIT\"},\"productDetails\":{\"asyncStatus\":\"INIT\"},\"productActions\":{\"share\":{\"asyncStatus\":\"INIT\"}},\"exchangeCartInfo\":{\"asyncStatus\":\"INIT\"},\"productReservation\":{\"asyncStatus\":\"INIT\"},\"productLayout\":{\"asyncStatus\":\"INIT\"},\"productImage\":{\"defaultMedia\":null},\"wiggleSwatches\":{}},\"sellersPage\":{\"asyncStatus\":\"INIT\"},\"productSummary\":{},\"reviewPageData\":{\"asyncStatus\":\"INIT\"},\"reviewsConfirmationPage\":{\"asyncStatus\":\"INIT\"},\"buyingGuides\":{},\"tooltip\":{\"id\":null},\"deferredContent\":{\"data\":{}},\"pincodeData\":{\"localPincodes\":[],\"suggestions\":[],\"invalid\":false,\"asyncStatus\":\"INIT\"},\"recentlyViewed\":{\"asyncStatus\":\"INIT\"},\"networkStatus\":\"ONLINE\",\"cartData\":{\"asyncStatus\":\"INIT\"},\"checkoutPage\":{\"summary\":{\"asyncStatus\":\"INIT\"},\"checkoutAsyncStatus\":\"INIT\",\"addressCache\":{\"newAddressForm\":{\"id\":\"newAddressForm\",\"name\":\"\",\"addressLine1\":\"\",\"addressLine2\":\"\",\"landmark\":\"\",\"city\":\"\",\"state\":\"\",\"pincode\":\"\",\"phone\":\"\",\"alternatePhone\":\"\",\"locationTypeTag\":\"\"}},\"visualState\":{\"login\":\"EXPANDED\",\"address\":\"COLLAPSED\",\"orderSummary\":\"COLLAPSED\",\"payment\":\"COLLAPSED\"},\"loginState\":{\"asyncStatus\":\"INIT\"},\"buyNow\":{\"eids\":\"\",\"domain\":\"physical\"},\"paymentToken\":{\"asyncStatus\":\"INIT\"}},\"payments\":{\"paymentOptions\":{\"asyncStatus\":\"INIT\"},\"instrumentCheck\":{\"offerSequenceNumber\":0},\"payWithDetails\":{\"asyncStatus\":\"INIT\"},\"payByInstrumentType\":{\"asyncStatus\":\"INIT\"},\"emiTerms\":{\"asyncStatus\":\"INIT\"},\"emiState\":{\"selectedBank\":\"\",\"selectedTenure\":\"\",\"selectedSection\":\"\"},\"captcha\":{\"asyncStatus\":\"INIT\"},\"emiCards\":{\"asyncStatus\":\"INIT\"},\"emiBanks\":{},\"emiTenures\":{},\"netOptions\":{},\"payViaWallet\":{\"asyncStatus\":\"INIT\"},\"selectedPaymentOption\":{\"mainOption\":\"\",\"emiCard\":\"\"},\"adjustments\":{},\"paymentAsyncStatus\":\"INIT\"},\"postOrderDetails\":{\"asyncStatus\":\"INIT\"},\"myOrders\":{\"asyncStatus\":\"INIT\"},\"returns\":{\"asyncStatus\":\"INIT\",\"subStatus\":\"REASON\"},\"returnAddress\":{\"asyncStatus\":\"INIT\"},\"ifscFinderData\":{\"asyncStatus\":\"INIT\"},\"orderCancellation\":{\"asyncStatus\":\"INIT\"},\"deliverySlots\":{\"asyncStatus\":\"INIT\"},\"subscription\":{\"asyncStatus\":\"INIT\"},\"orderConfirmationPage\":{\"asyncStatus\":\"INIT\"},\"staticPage\":{\"asyncStatus\":\"INIT\"},\"giveAwayData\":{\"asyncStatus\":\"INIT\"},\"productBuyBack\":{\"ttl\":{}}};\n",
      "</script>\n",
      "<script nonce=\"1776636443329216331\">\n",
      "\twindow.omniture={tpv:[],tl:[]};window.omniture.trackPageView=function(){window.omniture.tpv.push(arguments)};window.omniture.trackLink=function(){window.omniture.tl.push(arguments)}\n",
      "\n",
      "    if(window.location.host === 'www.flipkart.com' || /\\.store\\.flipkart\\.com/i.test(window.location.host)){\n",
      "        window.s_account = \"flipkart-prd\"; //omniture account id\n",
      "    }else{\n",
      "        window.s_account = \"flipkart-prd-test\";\n",
      "    }\n",
      "    window.s_isDesktop = true;\n",
      "\n",
      "\tif ('serviceWorker' in navigator && navigator.userAgent.indexOf(\"Mobile\") === -1) {\n",
      "\t\tnavigator.serviceWorker.register('/sw.js').then(function(registration) {\n",
      "\t\t\tconsole.log('ServiceWorker registration successful with scope: ', registration.scope);\n",
      "\t\t})\n",
      "\t\t.catch(function(err) {\n",
      "\t\t\tconsole.error('ServiceWorker registration failed: ', err);\n",
      "\t\t});\n",
      "\t} else if('serviceWorker' in navigator && navigator.userAgent.indexOf(\"Mobile\") > -1){\n",
      "        navigator.serviceWorker.getRegistration().then(function(registration) {\n",
      "            var serviceWorkerUnregistered=false;\n",
      "            if(registration) {\n",
      "                registration.unregister();\n",
      "                serviceWorkerUnregistered=true;\n",
      "            }\n",
      "            serviceWorkerUnregistered && window.location.reload();\n",
      "        });\n",
      "    }\n",
      "\n",
      "    window.criteo_q = window.criteo_q || [];\n",
      "    window.criteo_q.push(\n",
      "        { event: \"setAccount\", account: 13746 },\n",
      "        { event: \"setSiteType\", type: \"d\" }\n",
      "    );\n",
      "</script>\n",
      "<script nonce=\"1776636443329216331\" src=\"//img1a.flixcart.com/www/linchpin/batman-returns/raven/raven.3.9.1.js\"></script>\n",
      "<script nonce=\"1776636443329216331\">\n",
      "    window.Raven && window.Raven.config('https://b2fe488e344a47eda53b8d306edec9b7@sentry.flipkart.com/2',{\n",
      "\t\trelease: 'app.9693c6.js',\n",
      "\t\twhitelistUrls: [\n",
      "\t\t\t/flipkart\\.com/,\n",
      "\t\t\t/img1a\\.flixcart\\.com/\n",
      "\t\t],\n",
      "\t\tignoreErrors: [\n",
      "\t\t\t// Random plugins/extensions\n",
      "\t\t\t'top.GLOBALS',\n",
      "\t\t\t// See: http://blog.errorception.com/2012/03/tale-of-unfindable-js-error.html\n",
      "\t\t\t'originalCreateNotification',\n",
      "\t\t\t'canvas.contentDocument',\n",
      "\t\t\t'MyApp_RemoveAllHighlights',\n",
      "\t\t\t'atomicFindClose',\n",
      "\t\t\t// Facebook borked\n",
      "\t\t\t'fb_xd_fragment',\n",
      "\t\t\t// ISP \"optimizing\" proxy - `Cache-Control: no-transform` seems to reduce this. (thanks @acdha)\n",
      "\t\t\t// See http://stackoverflow.com/questions/4113268/how-to-stop-javascript-injection-from-vodafone-proxy\n",
      "\t\t\t'bmi_SafeAddOnload',\n",
      "\t\t\t'EBCallBackMessageReceived'\n",
      "\t\t],\n",
      "\t\tignoreUrls: [\n",
      "\t\t\t// Facebook flakiness\n",
      "\t\t\t/graph\\.facebook\\.com/i,\n",
      "\t\t\t// Facebook blocked\n",
      "\t\t\t/connect\\.facebook\\.net\\/en_US\\/all\\.js/i,\n",
      "\t\t\t// Chrome extensions\n",
      "\t\t\t/extensions\\//i,\n",
      "\t\t\t/^chrome:\\/\\//i\n",
      "]\n",
      "    }).install();\n",
      "</script>\n",
      "<script async=\"\" defer=\"\" nonce=\"1776636443329216331\" src=\"//img1a.flixcart.com/www/linchpin/batman-returns/omni/omni16.js\"></script>\n",
      "<script async=\"\" defer=\"\" nonce=\"1776636443329216331\" src=\"//static.criteo.net/js/ld/ld.js\"></script>\n",
      "</body>\n"
     ]
    }
   ],
   "source": [
    "print(page_soup.body)"
   ]
  },
  {
   "cell_type": "code",
   "execution_count": 29,
   "metadata": {
    "collapsed": false
   },
   "outputs": [
    {
     "name": "stdout",
     "output_type": "stream",
     "text": [
      "Sell on Flipkart\n"
     ]
    }
   ],
   "source": [
    "print(page_soup.header.div.div.div.ul.li.a.get_text())"
   ]
  },
  {
   "cell_type": "code",
   "execution_count": 35,
   "metadata": {
    "collapsed": false
   },
   "outputs": [
    {
     "name": "stdout",
     "output_type": "stream",
     "text": [
      "https://seller.flipkart.com/?utm_source=flipkart&utm_medium=website&utm_campaign=sellbutton\n"
     ]
    }
   ],
   "source": [
    "print(page_soup.header.div.div.div.ul.li.a['href'])"
   ]
  },
  {
   "cell_type": "code",
   "execution_count": 40,
   "metadata": {
    "collapsed": false
   },
   "outputs": [
    {
     "name": "stdout",
     "output_type": "stream",
     "text": [
      "[<a class=\"_2k0gmP\" data-reactid=\"14\" href=\"https://seller.flipkart.com/?utm_source=flipkart&amp;utm_medium=website&amp;utm_campaign=sellbutton\">Sell on Flipkart</a>, <a class=\"_2k0gmP\" data-reactid=\"16\" href=\"http://ads.flipkart.com/?otracker=ch_vn_advertise_header\">Advertise</a>, <a class=\"_2k0gmP\" data-reactid=\"18\" href=\"/buy-gift-voucher?otracker=ch_vn_gift-voucher\">Gift Card</a>, <a class=\"_2k0gmP\" data-reactid=\"20\" href=\"/mobile-apps?otracker=ch_vn_mobile_apps\">Download App</a>, <a class=\"_2k0gmP\" data-reactid=\"22\" href=\"/helpcentre\">24x7 Customer Care</a>, <a class=\"_2k0gmP\" data-reactid=\"24\" href=\"/account/orders\">Track Order</a>, <a data-reactid=\"27\" href=\"/notifications?otracker=Notifications_view_all\"><div class=\"_3ZgaWY\" data-reactid=\"28\"><svg class=\"_10wpBK\" data-reactid=\"29\" height=\"20px\" width=\"16px\" xmlns=\"http://www.w3.org/2000/svg\"><path d=\"M8.037 17.546c1.487 0 2.417-.93 2.417-2.417H5.62c0 1.486.93 2.415 2.417 2.415m5.315-6.463v-2.97h-.005c-.044-3.266-1.67-5.46-4.337-5.98v-.81C9.01.622 8.436.05 7.735.05 7.033.05 6.46.624 6.46 1.325v.808c-2.667.52-4.294 2.716-4.338 5.98h-.005v2.972l-1.843 1.42v1.376h14.92v-1.375l-1.842-1.42z\" data-reactid=\"30\"></path></svg></div></a>, <a class=\"_2k0gmP\" data-reactid=\"32\" href=\"/account/login?signup=true\">Signup</a>, <a class=\"_2k0gmP\" data-reactid=\"34\" href=\"/account/login?ret=/\">Log In</a>, <a data-reactid=\"39\" href=\"/\"><img alt=\"Flipkart\" data-reactid=\"40\" src=\"//img1a.flixcart.com/www/linchpin/fk-cp-zion/img/fk-logo_9fddff.png\" title=\"Flipkart\" width=\"149\"/></a>, <a class=\"_3NFO0d\" data-reactid=\"55\" href=\"/viewcart?otracker=Cart_Icon_Click\"><svg class=\"_20j1Vs\" data-reactid=\"56\" height=\"16\" viewbox=\"0 0 16 16\" width=\"16\" xmlns=\"http://www.w3.org/2000/svg\"><path class=\"\" d=\"M15.32 2.405H4.887C3 2.405 2.46.805 2.46.805L2.257.21C2.208.085 2.083 0 1.946 0H.336C.1 0-.064.24.024.46l.644 1.945L3.11 9.767c.047.137.175.23.32.23h8.418l-.493 1.958H3.768l.002.003c-.017 0-.033-.003-.05-.003-1.06 0-1.92.86-1.92 1.92s.86 1.92 1.92 1.92c.99 0 1.805-.75 1.91-1.712l5.55.076c.12.922.91 1.636 1.867 1.636 1.04 0 1.885-.844 1.885-1.885 0-.866-.584-1.593-1.38-1.814l2.423-8.832c.12-.433-.206-.86-.655-.86\" data-reactid=\"57\" fill=\"#fff\"></path></svg><!-- react-text: 58 -->CART<!-- /react-text --><span class=\"_2bVfmg\" data-reactid=\"59\">0</span></a>, <a href=\"https://www.flipkart.com/mobiles/mi~brand/pr?sid=tyy,4io\">Xiaomi phones</a>, <a href=\"https://www.flipkart.com/mobiles/apple~brand/pr?sid=tyy,4io\">iPhone</a>, <a href=\"https://www.flipkart.com/mobiles/samsung~brand/pr?sid=tyy,4io\">Samsung mobiles</a>, <a href=\"https://www.flipkart.com/mobiles/lenovo~brand/pr?sid=tyy,4io\">Lenovo mobiles</a>, <a href=\"https://www.flipkart.com/mobiles/vivo~brand/pr?sid=tyy,4io\">Vivo mobiles</a>, <a href=\"https://www.flipkart.com/mobiles/lyf~brand/pr?sid=tyy,4io\">Lyf</a>, <a href=\"https://www.flipkart.com/mobiles/oppo~brand/pr?sid=tyy,4io\">Oppo mobiles</a>, <a href=\"https://www.flipkart.com/mobiles/~redmi-note-4/pr?sid=tyy%2C4io\">Redmi Note 4</a>, <a href=\"http://www.flipkart.com/moto-g5-plus-intrigue\">Moto G5  Plus</a>, <a href=\"https://www.flipkart.com/mobiles/~samsung-galaxy-s8-and-samsung-galaxy-s8-plus/pr?sid=tyy,4io\">Samsung S8</a>, <a class=\"_287FRX\" data-reactid=\"79\" href=\"/s/help/payments?otracker=undefined_footer_navlinks\">Payments</a>, <a class=\"_287FRX\" data-reactid=\"80\" href=\"/help/savedcard_how?otracker=undefined_footer_navlinks\">Saved Cards</a>, <a class=\"_287FRX\" data-reactid=\"81\" href=\"/s/help/shipping?otracker=undefined_footer_navlinks\">Shipping</a>, <a class=\"_287FRX\" data-reactid=\"82\" href=\"/s/help/cancellation-returns?otracker=undefined_footer_navlinks\">Cancellation &amp; Returns</a>, <a class=\"_287FRX\" data-reactid=\"83\" href=\"/s/help?otracker=undefined_footer_navlinks\">FAQ</a>, <a class=\"_287FRX\" data-reactid=\"84\" href=\"https://seller.flipkart.com/fiv?otracker=undefined_footer_navlinks\">Report Infringement</a>, <a class=\"_287FRX\" data-reactid=\"88\" href=\"/s/contact?otracker=undefined_footer_navlinks\">Contact Us</a>, <a class=\"_287FRX\" data-reactid=\"89\" href=\"/about-us?otracker=undefined_footer_navlinks\">About Us</a>, <a class=\"_287FRX\" data-reactid=\"90\" href=\"/ol?link=http%3A%2F%2Fwww.flipkartcareers.com%2F&amp;otracker=undefined_footer_navlinks\">Careers</a>, <a class=\"_287FRX\" data-reactid=\"91\" href=\"http://stories.flipkart.com/?otracker=undefined_footer_navlinks\">Flipkart Stories</a>, <a class=\"_287FRX\" data-reactid=\"92\" href=\"/s/press?otracker=undefined_footer_navlinks\">Press</a>, <a class=\"_287FRX\" data-reactid=\"93\" href=\"https://seller.flipkart.com/?utm_source=flipkart&amp;utm_medium=website&amp;utm_campaign=sellbutton\">Sell on Flipkart</a>, <a class=\"_287FRX\" data-reactid=\"97\" href=\"https://www.flipkart.com?otracker=undefined_footer_navlinks\">Online Shopping</a>, <a class=\"_287FRX\" data-reactid=\"98\" href=\"https://affiliate.flipkart.com?otracker=undefined_footer_navlinks\">Affiliate Program</a>, <a class=\"_287FRX\" data-reactid=\"99\" href=\"/buy-gift-voucher?otracker=undefined_footer_navlinks\">Gift Card</a>, <a class=\"_287FRX\" data-reactid=\"100\" href=\"/flipkart-first?otracker=undefined_footer_navlinks\">Flipkart First Subscription</a>, <a class=\"_287FRX\" data-reactid=\"101\" href=\"/mobile-apps?otracker=undefined_footer_navlinks\"><div class=\"AX4izK\" data-reactid=\"102\"></div></a>, <a class=\"_3llQHu\" data-reactid=\"128\" href=\"/returnpolicy\">Returns Policy</a>, <a class=\"_3llQHu\" data-reactid=\"129\" href=\"/s/terms\">Terms of use</a>, <a class=\"_3llQHu\" data-reactid=\"130\" href=\"/s/paymentsecurity\">Security</a>, <a class=\"_3llQHu\" data-reactid=\"131\" href=\"/s/privacypolicy\">Privacy</a>, <a class=\"_3llQHu\" data-reactid=\"132\" href=\"https://seller.flipkart.com/fiv\">Infringement</a>, <a class=\"_3BNkWJ _2EqWRh\" data-reactid=\"140\" href=\"/ol?link=http://www.facebook.com/flipkart\" rel=\"noopener noreferrer\" target=\"_blank\"></a>, <a class=\"_1gaRkv _2EqWRh\" data-reactid=\"141\" href=\"/ol?link=http://www.twitter.com/flipkart\" rel=\"noopener noreferrer\" target=\"_blank\"></a>, <a class=\"_1dlzPn _2EqWRh\" data-reactid=\"142\" href=\"/ol?link=https://plus.google.com/109591199284807005836/posts\" rel=\"noopener noreferrer\" target=\"_blank\"></a>, <a class=\"_2GU83R _2EqWRh\" data-reactid=\"143\" href=\"/ol?link=http://www.youtube.com/flipkart\" rel=\"noopener noreferrer\" target=\"_blank\"></a>, <a href=\"tel:18002089898\">1800 208 9898</a>]\n"
     ]
    }
   ],
   "source": [
    "print(page_soup.find_all('a',href=True))"
   ]
  },
  {
   "cell_type": "code",
   "execution_count": 11,
   "metadata": {
    "collapsed": false
   },
   "outputs": [
    {
     "name": "stdout",
     "output_type": "stream",
     "text": [
      "None\n"
     ]
    }
   ],
   "source": [
    "print(page_soup.find('div',attrs={'class':'_2kSfQ4'}))"
   ]
  },
  {
   "cell_type": "code",
   "execution_count": 20,
   "metadata": {
    "collapsed": false
   },
   "outputs": [],
   "source": [
    "container=page_soup.findAll('div')"
   ]
  },
  {
   "cell_type": "code",
   "execution_count": 21,
   "metadata": {
    "collapsed": false
   },
   "outputs": [
    {
     "name": "stdout",
     "output_type": "stream",
     "text": [
      "106\n"
     ]
    }
   ],
   "source": [
    "print(len(container))"
   ]
  },
  {
   "cell_type": "code",
   "execution_count": 29,
   "metadata": {
    "collapsed": false
   },
   "outputs": [
    {
     "name": "stdout",
     "output_type": "stream",
     "text": [
      "[<div class=\"col-1-12\" data-reactid=\"47\"><button class=\"vh79eN\" data-reactid=\"48\" type=\"submit\"><svg class=\"_2BhAHa\" data-reactid=\"49\" height=\"15px\" width=\"15px\" xmlns=\"http://www.w3.org/2000/svg\"><path d=\"M11.618 9.897l4.224 4.212c.092.09.1.23.02.312l-1.464 1.46c-.08.08-.222.072-.314-.02L9.868 11.66M6.486 10.9c-2.42 0-4.38-1.955-4.38-4.367 0-2.413 1.96-4.37 4.38-4.37s4.38 1.957 4.38 4.37c0 2.412-1.96 4.368-4.38 4.368m0-10.834C2.904.066 0 2.96 0 6.533 0 10.105 2.904 13 6.486 13s6.487-2.895 6.487-6.467c0-3.572-2.905-6.467-6.487-6.467\" data-reactid=\"50\"></path></svg></button></div>]\n"
     ]
    }
   ],
   "source": [
    "print(page_soup.findAll('div',{\"class\":\"col-1-12\"}))"
   ]
  },
  {
   "cell_type": "code",
   "execution_count": 33,
   "metadata": {
    "collapsed": false
   },
   "outputs": [],
   "source": [
    "container=page_soup.findAll('div',attrs={\"class\":\"col-1-12\"})"
   ]
  },
  {
   "cell_type": "code",
   "execution_count": 34,
   "metadata": {
    "collapsed": false
   },
   "outputs": [
    {
     "name": "stdout",
     "output_type": "stream",
     "text": [
      "1\n"
     ]
    }
   ],
   "source": [
    "print(len(container))"
   ]
  },
  {
   "cell_type": "code",
   "execution_count": 59,
   "metadata": {
    "collapsed": true
   },
   "outputs": [],
   "source": [
    "con=page_soup.findAll('li',attrs={\"class\":\"_2sYLhZ\"})"
   ]
  },
  {
   "cell_type": "code",
   "execution_count": 60,
   "metadata": {
    "collapsed": false
   },
   "outputs": [
    {
     "name": "stdout",
     "output_type": "stream",
     "text": [
      "9\n"
     ]
    }
   ],
   "source": [
    "print(len(con))"
   ]
  },
  {
   "cell_type": "code",
   "execution_count": 61,
   "metadata": {
    "collapsed": false
   },
   "outputs": [
    {
     "name": "stdout",
     "output_type": "stream",
     "text": [
      "<li class=\"_2sYLhZ\" data-reactid=\"13\"><a class=\"_2k0gmP\" data-reactid=\"14\" href=\"https://seller.flipkart.com/?utm_source=flipkart&amp;utm_medium=website&amp;utm_campaign=sellbutton\">Sell on Flipkart</a></li>\n"
     ]
    }
   ],
   "source": [
    "print(con[0])"
   ]
  },
  {
   "cell_type": "code",
   "execution_count": 62,
   "metadata": {
    "collapsed": false
   },
   "outputs": [
    {
     "name": "stdout",
     "output_type": "stream",
     "text": [
      "https://seller.flipkart.com/?utm_source=flipkart&utm_medium=website&utm_campaign=sellbutton\n"
     ]
    }
   ],
   "source": [
    "print(con[0].a['href'])"
   ]
  },
  {
   "cell_type": "code",
   "execution_count": 64,
   "metadata": {
    "collapsed": false
   },
   "outputs": [
    {
     "name": "stdout",
     "output_type": "stream",
     "text": [
      "Sell on Flipkart\n"
     ]
    }
   ],
   "source": [
    "print(con[0].a.get_text())"
   ]
  },
  {
   "cell_type": "code",
   "execution_count": 71,
   "metadata": {
    "collapsed": false
   },
   "outputs": [
    {
     "name": "stdout",
     "output_type": "stream",
     "text": [
      "Sell on Flipkart\n",
      "Advertise\n",
      "Gift Card\n",
      "Download App\n",
      "24x7 Customer Care\n",
      "Track Order\n",
      "\n",
      "Signup\n",
      "Log In\n"
     ]
    }
   ],
   "source": [
    "filename=\"webtest.csv\"\n",
    "f=open(filename,'w')\n",
    "f.write(\"top_header\\n\")\n",
    "for item in con:\n",
    "    top_header=item.a.get_text()\n",
    "    print(top_header) \n",
    "    f.write(top_header)\n",
    "    f.write(\",\")\n",
    "f.close()    "
   ]
  },
  {
   "cell_type": "code",
   "execution_count": 72,
   "metadata": {
    "collapsed": false
   },
   "outputs": [
    {
     "name": "stdout",
     "output_type": "stream",
     "text": [
      "top_header\n",
      "Sell on Flipkart,Advertise,Gift Card,Download App,24x7 Customer Care,Track Order,,Signup,Log In,\n"
     ]
    }
   ],
   "source": [
    "filename=\"webtest.csv\"\n",
    "f=open(filename,'r')\n",
    "content=f.read()\n",
    "print(content)\n",
    "\n",
    "    "
   ]
  },
  {
   "cell_type": "code",
   "execution_count": null,
   "metadata": {
    "collapsed": true
   },
   "outputs": [],
   "source": []
  }
 ],
 "metadata": {
  "kernelspec": {
   "display_name": "Python 3",
   "language": "python",
   "name": "python3"
  },
  "language_info": {
   "codemirror_mode": {
    "name": "ipython",
    "version": 3
   },
   "file_extension": ".py",
   "mimetype": "text/x-python",
   "name": "python",
   "nbconvert_exporter": "python",
   "pygments_lexer": "ipython3",
   "version": "3.6.0"
  }
 },
 "nbformat": 4,
 "nbformat_minor": 2
}
