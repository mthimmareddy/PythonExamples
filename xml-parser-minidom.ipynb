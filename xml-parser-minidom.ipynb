{
 "cells": [
  {
   "cell_type": "code",
   "execution_count": 2,
   "metadata": {
    "collapsed": false
   },
   "outputs": [
    {
     "name": "stdout",
     "output_type": "stream",
     "text": [
      "95389\n"
     ]
    }
   ],
   "source": [
    "from xml.dom import minidom\n",
    "import xml.etree.ElementTree as ET\n",
    "dataset='''\n",
    "\n",
    "<data>\n",
    "    <country name=\"Liechtenstein\">\n",
    "        <rank>1</rank>\n",
    "        <year>2008</year>\n",
    "        <gdppc>141100</gdppc>\n",
    "        <neighbor name=\"Austria\" direction=\"E\"/>\n",
    "        <neighbor name=\"Switzerland\" direction=\"W\"/>\n",
    "    </country>\n",
    "    <country name=\"Singapore\">\n",
    "        <rank>4</rank>\n",
    "        <year>2011</year>\n",
    "        <gdppc>59900</gdppc>\n",
    "        <neighbor name=\"Malaysia\" direction=\"N\"/>\n",
    "    </country>\n",
    "    <country name=\"Panama\">\n",
    "        <rank>68</rank>\n",
    "        <year>2011</year>\n",
    "        <gdppc>13600</gdppc>\n",
    "        <neighbor name=\"Costa Rica\" direction=\"W\"/>\n",
    "        <neighbor name=\"Colombia\" direction=\"E\"/>\n",
    "    </country>\n",
    "</data>\n",
    "'''\n",
    "t=ET.fromstring(dataset)\n",
    "path1=\"C:/Manju-Documents/A-Zudemy/Machine Learning A-Z Template Folder/Datasets/Regression/Onionpriceprediction\"\n",
    "\n",
    "xmldoc=minidom.parse(path1+\"/Onion_2008.xml\")\n",
    "en=xmldoc.getElementsByTagName('soap:Envelope')[0]\n",
    "body=en.getElementsByTagName('soap:Body')[0]\n",
    "res=body.getElementsByTagName('showResponse')[0]\n",
    "rus=res.getElementsByTagName('showResult')[0]\n",
    "diff=rus.getElementsByTagName('diffgr:diffgram')[0]\n",
    "set1=diff.getElementsByTagName('NewDataSet')[0]\n",
    "tables=diff.getElementsByTagName('Table')\n",
    "print (len(tables))\n",
    "with open(path1+\"/Onions_2008.csv\",\"w\") as f:\n",
    "    f.write('state:District:Market:Commodity:Arrival_Date:Min_Price:Max_Price:Modal_Price')\n",
    "    f.write(\"\\n\")\n",
    "    for tab in tables:\n",
    "        #print(tab.childNodes[3].nodeValue)\n",
    "        state=tab.getElementsByTagName('State')[0].firstChild.data\n",
    "        District=tab.getElementsByTagName('District')[0].firstChild.data\n",
    "        Market=tab.getElementsByTagName('Market')[0].firstChild.data\n",
    "        Commodity=tab.getElementsByTagName('Commodity')[0].firstChild.data\n",
    "        Arrival_Date=tab.getElementsByTagName('Arrival_Date')[0].firstChild.data\n",
    "        Min_Price=tab.getElementsByTagName('Min_x0020_Price')[0].firstChild.data\n",
    "        Max_Price=tab.getElementsByTagName('Max_x0020_Price')[0].firstChild.data\n",
    "        #print(Max_price)\n",
    "        #print(Min_price)\n",
    "        Modal_Price=tab.getElementsByTagName('Modal_x0020_Price')[0].firstChild.data\n",
    "    \n",
    "      \n",
    "        f.write(state+\":\"+District+\":\"+Market+\":\"+Commodity+\":\"+Arrival_Date+\":\"+Min_Price+\":\"+Max_Price+\":\"+Modal_Price)\n",
    "        f.write(\"\\n\")\n",
    "    \n",
    "        #print(state+\",\",District+\",\",Market+\",\",Commodity+\",\",Arrival_Date+\",\",Min_Price+\",\",Max_Price+\",\",Modal_Price)\n",
    "\n",
    "\n"
   ]
  },
  {
   "cell_type": "code",
   "execution_count": null,
   "metadata": {
    "collapsed": true
   },
   "outputs": [],
   "source": []
  }
 ],
 "metadata": {
  "kernelspec": {
   "display_name": "Python 3",
   "language": "python",
   "name": "python3"
  },
  "language_info": {
   "codemirror_mode": {
    "name": "ipython",
    "version": 3
   },
   "file_extension": ".py",
   "mimetype": "text/x-python",
   "name": "python",
   "nbconvert_exporter": "python",
   "pygments_lexer": "ipython3",
   "version": "3.6.0"
  }
 },
 "nbformat": 4,
 "nbformat_minor": 2
}
